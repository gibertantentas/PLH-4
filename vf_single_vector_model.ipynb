{
 "cells": [
  {
   "cell_type": "markdown",
   "metadata": {
    "collapsed": false,
    "id": "iWyWyt5X7GRK"
   },
   "source": [
    "# Semantic Text Similarity"
   ]
  },
  {
   "cell_type": "code",
   "execution_count": 33,
   "metadata": {},
   "outputs": [
    {
     "data": {
      "text/plain": [
       "\"!pip install fasttext\\nimport fasttext.util\\nfasttext.util.download_model('ca', if_exists='ignore')  # English\\nfasttext.load_model('cc.ca.100.bin')\""
      ]
     },
     "execution_count": 33,
     "metadata": {},
     "output_type": "execute_result"
    }
   ],
   "source": [
    "'''!pip install fasttext\n",
    "import fasttext.util\n",
    "fasttext.util.download_model('ca', if_exists='ignore')  # English\n",
    "fasttext.load_model('cc.ca.100.bin')'''"
   ]
  },
  {
   "cell_type": "code",
   "execution_count": 34,
   "metadata": {},
   "outputs": [
    {
     "data": {
      "text/plain": [
       "\"ft = fasttext.load_model('cc.ca.300.bin')\\nfasttext.util.reduce_model(ft, 100)\\nft.save_model('cc.ca.100.bin.gz')\""
      ]
     },
     "execution_count": 34,
     "metadata": {},
     "output_type": "execute_result"
    }
   ],
   "source": [
    "'''ft = fasttext.load_model('cc.ca.300.bin')\n",
    "fasttext.util.reduce_model(ft, 100)\n",
    "ft.save_model('cc.ca.100.bin.gz')'''"
   ]
  },
  {
   "cell_type": "code",
   "execution_count": 35,
   "metadata": {
    "ExecuteTime": {
     "end_time": "2024-05-28T09:57:01.673450Z",
     "start_time": "2024-05-28T09:57:01.056869Z"
    },
    "collapsed": false
   },
   "outputs": [],
   "source": [
    "# Requisites\n",
    "from gensim.models import TfidfModel\n",
    "from gensim.utils import simple_preprocess\n",
    "from gensim.corpora import Dictionary\n",
    "import numpy as np\n",
    "from scipy import spatial\n",
    "from typing import Tuple, List"
   ]
  },
  {
   "cell_type": "code",
   "execution_count": 36,
   "metadata": {
    "ExecuteTime": {
     "end_time": "2024-05-28T09:57:01.675833Z",
     "start_time": "2024-05-28T09:57:01.674277Z"
    },
    "collapsed": false
   },
   "outputs": [],
   "source": [
    "# Load stopwords in spanish\n",
    "import nltk\n",
    "from nltk.corpus import stopwords\n",
    "#STOPWORDS_ES = {\"yo\", \"tú\", \"él\", \"ella\", \"nosotros\", \"vosotros\", \"ellos\", \"de\", \"a\", }\n",
    "STOPWORDS_CAT = {\"jo\", \"tu\", \"ell\", \"ella\", \"nosaltres\", \"vosaltres\", \"ells\", \"elles\", \"de\", \"a\", }\n",
    "#STOPWORDS_CAT = stopwords.words(\"catalan\")"
   ]
  },
  {
   "cell_type": "code",
   "execution_count": 37,
   "metadata": {
    "ExecuteTime": {
     "end_time": "2024-05-28T09:57:01.677989Z",
     "start_time": "2024-05-28T09:57:01.676426Z"
    },
    "executionInfo": {
     "elapsed": 832,
     "status": "ok",
     "timestamp": 1715597140554,
     "user": {
      "displayName": "Dina Alfaro Diaz",
      "userId": "00309450318204567847"
     },
     "user_tz": -120
    },
    "id": "6RhXHDNN7GRO"
   },
   "outputs": [],
   "source": [
    "# Define preprocessing\n",
    "def preprocess(sentence: str) -> List[str]:\n",
    "    preprocessed = simple_preprocess(sentence)\n",
    "    preprocessed = [token for token in preprocessed if token not in STOPWORDS_CAT]\n",
    "    return preprocessed"
   ]
  },
  {
   "cell_type": "markdown",
   "metadata": {
    "collapsed": false,
    "id": "lANXoJjm7GRO"
   },
   "source": [
    "# Load Vectors"
   ]
  },
  {
   "cell_type": "code",
   "execution_count": 3,
   "metadata": {},
   "outputs": [
    {
     "name": "stdout",
     "output_type": "stream",
     "text": [
      "Ruta actual: /Users/gibertantentas/Library/CloudStorage/OneDrive-UniversitatPolitècnicadeCatalunya/2n/Q2/PLH/Practica4/PLH-4\n",
      "Nueva ruta: /Users/gibertantentas/Library/CloudStorage/OneDrive-UniversitatPolitècnicadeCatalunya/2n/Q2/PLH/Practica4\n"
     ]
    }
   ],
   "source": [
    "import os\n",
    "\n",
    "path_actual = os.getcwd()\n",
    "os.chdir(\"..\")\n",
    "carpeta_anterior = os.getcwd()\n",
    "print(\"Nueva ruta:\", carpeta_anterior)\n"
   ]
  },
  {
   "cell_type": "code",
   "execution_count": 4,
   "metadata": {
    "ExecuteTime": {
     "end_time": "2024-05-28T09:57:01.680368Z",
     "start_time": "2024-05-28T09:57:01.678937Z"
    },
    "colab": {
     "base_uri": "https://localhost:8080/"
    },
    "executionInfo": {
     "elapsed": 20549,
     "status": "ok",
     "timestamp": 1715597163800,
     "user": {
      "displayName": "Dina Alfaro Diaz",
      "userId": "00309450318204567847"
     },
     "user_tz": -120
    },
    "id": "Sf5afpx6afWh",
    "outputId": "3ea9a65c-09bd-485b-819d-ff7935747b99"
   },
   "outputs": [],
   "source": [
    "# WORD 2 VEC\n",
    "\n",
    "WORD_EMBEDDING_FILE = os.path.join(carpeta_anterior, \"cc.ca.300.bin.gz\")\n",
    "# Load with gensim\n",
    "from gensim.models import fasttext\n",
    "wv_model = fasttext.load_facebook_vectors(WORD_EMBEDDING_FILE)\n",
    "\n",
    "#WORD_EMBEDDING_FILE = load_dataset(\"projecte-aina/catalan_general_crawling\")"
   ]
  },
  {
   "cell_type": "code",
   "execution_count": 39,
   "metadata": {},
   "outputs": [
    {
     "data": {
      "text/plain": [
       "'# ROBERTA\\nfrom transformers import AutoTokenizer, AutoModelForMaskedLM\\n\\ntokenizer = AutoTokenizer.from_pretrained(\"projecte-aina/roberta-base-ca-v2\")\\nmodel = AutoModelForMaskedLM.from_pretrained(\"projecte-aina/roberta-base-ca-v2\")'"
      ]
     },
     "execution_count": 39,
     "metadata": {},
     "output_type": "execute_result"
    }
   ],
   "source": [
    "'''# ROBERTA\n",
    "from transformers import AutoTokenizer, AutoModelForMaskedLM\n",
    "\n",
    "tokenizer = AutoTokenizer.from_pretrained(\"projecte-aina/roberta-base-ca-v2\")\n",
    "model = AutoModelForMaskedLM.from_pretrained(\"projecte-aina/roberta-base-ca-v2\")'''"
   ]
  },
  {
   "cell_type": "code",
   "execution_count": 40,
   "metadata": {},
   "outputs": [
    {
     "data": {
      "text/plain": [
       "'# SPACY\\n!python -m spacy download ca_core_news_md\\nimport spacy\\nmodel = spacy.load(\"ca_core_news_md\")\\nwv_model = model.vocab.vectors\\n'"
      ]
     },
     "execution_count": 40,
     "metadata": {},
     "output_type": "execute_result"
    }
   ],
   "source": [
    "'''# SPACY\n",
    "!python -m spacy download ca_core_news_md\n",
    "import spacy\n",
    "model = spacy.load(\"ca_core_news_md\")\n",
    "wv_model = model.vocab.vectors\n",
    "'''"
   ]
  },
  {
   "cell_type": "code",
   "execution_count": 41,
   "metadata": {},
   "outputs": [],
   "source": [
    "# ONE HOT ENCODING"
   ]
  },
  {
   "cell_type": "code",
   "execution_count": 42,
   "metadata": {
    "ExecuteTime": {
     "end_time": "2024-05-28T09:58:57.079699Z",
     "start_time": "2024-05-28T09:58:57.072399Z"
    },
    "executionInfo": {
     "elapsed": 611,
     "status": "ok",
     "timestamp": 1715597308586,
     "user": {
      "displayName": "Dina Alfaro Diaz",
      "userId": "00309450318204567847"
     },
     "user_tz": -120
    },
    "id": "dUUuDMup7GRO"
   },
   "outputs": [],
   "source": [
    "# If you want, you can use mmaps\n",
    "USE_MMAP = False\n",
    "if USE_MMAP:\n",
    "    from gensim.models.fasttext import FastTextKeyedVectors\n",
    "    MMAP_PATH = 'cc.ca.gensim.bin'\n",
    "    # wv_model.save(MMAP_PATH)\n",
    "    wv_model = FastTextKeyedVectors.load(MMAP_PATH, mmap='r')"
   ]
  },
  {
   "cell_type": "code",
   "execution_count": 43,
   "metadata": {
    "ExecuteTime": {
     "end_time": "2024-05-28T09:58:57.178850Z",
     "start_time": "2024-05-28T09:58:57.081387Z"
    },
    "executionInfo": {
     "elapsed": 565,
     "status": "ok",
     "timestamp": 1715597310621,
     "user": {
      "displayName": "Dina Alfaro Diaz",
      "userId": "00309450318204567847"
     },
     "user_tz": -120
    },
    "id": "7o_989Kp7GRP"
   },
   "outputs": [],
   "source": [
    "# Sample data\n",
    "input_pairs_example = [\n",
    "    ('Me gusta el futbol', 'Disfruto viendo partidos de futbol', 4),\n",
    "    ('El cielo está despejado', 'Hace un día bonito', 4.5),\n",
    "    ('Me encanta viajar', 'Explorar nuevos lugares es una pasión', 3.5),\n",
    "    ('Prefiero el verano', 'No me gusta el frío del invierno', 2.5),\n",
    "    ('Tengo hambre', '¿Qué hay para cenar?', 2),\n",
    "    ('La música me relaja', 'Escuchar música es una terapia', 3),\n",
    "    ('El libro es emocionante', 'No puedo dejar de leerlo', 4),\n",
    "    ('Me gusta la pizza', 'Es mi comida favorita', 4.5),\n",
    "    ('Estoy cansado', 'Necesito hacer una siesta', 1.5),\n",
    "    ('Hoy hace mucho calor', 'Es un día sofocante', 3.5)\n",
    "]"
   ]
  },
  {
   "cell_type": "code",
   "execution_count": 44,
   "metadata": {
    "ExecuteTime": {
     "end_time": "2024-05-28T09:59:02.451116Z",
     "start_time": "2024-05-28T09:58:57.179728Z"
    },
    "colab": {
     "base_uri": "https://localhost:8080/",
     "height": 1000,
     "referenced_widgets": [
      "7e31674eb8f148f5b2dc7eb359df4e82",
      "dcdcb4f9968242f99aa3a6d96eec1e2d",
      "2ba7ebfcb13149d3a7e09f44554e8938",
      "317ccb26b55f45148f63dae7a4374e00",
      "0f14c341c2694a6ea6dfe6dfc4fa967a",
      "fa71dff1570049b6b80da30a6cdb928c",
      "6f834e3e0ee248afaa2a7fa1364b2a04",
      "5d4600cfee9b4a1ab056b4c08f2dbe1d",
      "3a2260bc78434ba1996c434eb021c660",
      "15fe494b4725464bab5da7edc6aff469",
      "2cd97ca4be4e4cb6bf8eedbe04e414a7",
      "13e0a577c0c24880be176a80a0d8b74b",
      "d492906490fe4ace9c313a718f4abba8",
      "69603de110cc4421823e7e333bd4e685",
      "5226c9b3b2144ff6ac70240f7068ea7c",
      "eca42b2a5a6d4cd1aeadccf98788d437",
      "c3094699e4144d4484cdbc4a2c1c6f8c",
      "8a5fd4af8da24c488809a8a0fd52e18d",
      "7422e6aca2a94701b1279f6eb9fcd2bb",
      "4f581b1435214a30ab2eb51d454e7384",
      "8c4f46eb7d9f460b81a53e33e7ef1f4c",
      "c42f5e73579843c9b3a7d4813a880988",
      "d02e35436b094095abdaea0e655e045f",
      "b222837b3c554ddebef43f6758119b7a",
      "e5136be72af745dcb43bb085a81f9594",
      "afe1d6c89f904810983b03f8846ee7ea",
      "98dc658518d4417d9622dcd34036790c",
      "45db6b98cfe2454eaf2a89fcaa77990b",
      "0619db8c587e407bbb71f4266ba59c9d",
      "7e080c2cb4ce4108a5f7d1de618d9158",
      "f7fa156e9e584c2696d5b6a3a06fe0e1",
      "67cd19f6c6764c2db8780d02e05b114a",
      "af4a503eaf8848a88f362b3f0ec6f9c9",
      "4a8ea3feb54e4403a860f51c40c60a65",
      "e5b529c0bda44d7fb498d12790d5fdb5",
      "797dccf1637a4865922892338fa78f32",
      "9482abdd534c4738bc8b0f24663091e7",
      "32be02674b0f42e8b8e324188ef9d597",
      "334900782e2e480ab10493cd6c0b8d8d",
      "756e1842cf684fea96b3ae0f1a82d279",
      "b0d7bbafb1a64bc49dd32b58a16d12d5",
      "acbfc2a44a2e43bf81ad705d73f520a3",
      "c988a28d112a4546b5a7519e3624f256",
      "c90b605d2ac149e0b4e27fcdd2a3b8b5",
      "cecae7e33f444016a8ab7f3f8e22ec38",
      "a81da08c8f514e5a89182a6aada68f55",
      "22ea76e1f2e3414cb55d079b234ecc38",
      "45050d82435943fd85fdf5991c060f1a",
      "3d2751a637c34ab28de8945e28def42a",
      "0df785030f164f39b7eb0fcbaf40cb10",
      "676a9315ef154923b7e5569b34df4e57",
      "a66b1b58a7ed4cb681600e49378f42a3",
      "7524b3f3a0da43088b780d68f10dd94c",
      "249808ece0894aaaaf1350ffdb41fc8b",
      "0a7ecba944724ab597f3fbfee5dadb44",
      "e02a69378cf0482b947fd30da495244e",
      "0b8c1047b47d4f39b5f8bde6a348704b",
      "840d77a93521462f8db2a6a868666d75",
      "e9e7c3248f32459296b5a4ee15cd999e",
      "144a8dcc90804accb8b5c96cf241f934",
      "ee135d6e1a8c4042b2d155609fcce7bb",
      "ef08bea292924aefbce06188388be7b0",
      "9d0c9302da5641888451cf1d6606d13f",
      "f2e3d9c72db64aca9610f5d5b6602733",
      "8373ee773feb41de804db1a71b11c391",
      "781c601df8f5449ab56fdf104869373c"
     ]
    },
    "executionInfo": {
     "elapsed": 21533,
     "status": "ok",
     "timestamp": 1715597335408,
     "user": {
      "displayName": "Dina Alfaro Diaz",
      "userId": "00309450318204567847"
     },
     "user_tz": -120
    },
    "id": "BhTzvKLn7GRP",
    "outputId": "af3a3615-1c09-4b6b-cae5-18c2e166e1b1"
   },
   "outputs": [
    {
     "name": "stdout",
     "output_type": "stream",
     "text": [
      "Requirement already satisfied: datasets in /Users/gibertantentas/.pyenv/versions/3.11.5/envs/IAA/lib/python3.11/site-packages (2.19.1)\n",
      "Requirement already satisfied: filelock in /Users/gibertantentas/.pyenv/versions/3.11.5/envs/IAA/lib/python3.11/site-packages (from datasets) (3.14.0)\n",
      "Requirement already satisfied: numpy>=1.17 in /Users/gibertantentas/.pyenv/versions/3.11.5/envs/IAA/lib/python3.11/site-packages (from datasets) (1.25.0)\n",
      "Requirement already satisfied: pyarrow>=12.0.0 in /Users/gibertantentas/.pyenv/versions/3.11.5/envs/IAA/lib/python3.11/site-packages (from datasets) (16.1.0)\n",
      "Requirement already satisfied: pyarrow-hotfix in /Users/gibertantentas/.pyenv/versions/3.11.5/envs/IAA/lib/python3.11/site-packages (from datasets) (0.6)\n",
      "Requirement already satisfied: dill<0.3.9,>=0.3.0 in /Users/gibertantentas/.pyenv/versions/3.11.5/envs/IAA/lib/python3.11/site-packages (from datasets) (0.3.8)\n",
      "Requirement already satisfied: pandas in /Users/gibertantentas/.pyenv/versions/3.11.5/envs/IAA/lib/python3.11/site-packages (from datasets) (2.1.4)\n",
      "Requirement already satisfied: requests>=2.19.0 in /Users/gibertantentas/.pyenv/versions/3.11.5/envs/IAA/lib/python3.11/site-packages (from datasets) (2.31.0)\n",
      "Requirement already satisfied: tqdm>=4.62.1 in /Users/gibertantentas/.pyenv/versions/3.11.5/envs/IAA/lib/python3.11/site-packages (from datasets) (4.66.1)\n",
      "Requirement already satisfied: xxhash in /Users/gibertantentas/.pyenv/versions/3.11.5/envs/IAA/lib/python3.11/site-packages (from datasets) (3.4.1)\n",
      "Requirement already satisfied: multiprocess in /Users/gibertantentas/.pyenv/versions/3.11.5/envs/IAA/lib/python3.11/site-packages (from datasets) (0.70.16)\n",
      "Requirement already satisfied: fsspec<=2024.3.1,>=2023.1.0 in /Users/gibertantentas/.pyenv/versions/3.11.5/envs/IAA/lib/python3.11/site-packages (from fsspec[http]<=2024.3.1,>=2023.1.0->datasets) (2024.3.1)\n",
      "Requirement already satisfied: aiohttp in /Users/gibertantentas/.pyenv/versions/3.11.5/envs/IAA/lib/python3.11/site-packages (from datasets) (3.9.5)\n",
      "Requirement already satisfied: huggingface-hub>=0.21.2 in /Users/gibertantentas/.pyenv/versions/3.11.5/envs/IAA/lib/python3.11/site-packages (from datasets) (0.23.0)\n",
      "Requirement already satisfied: packaging in /Users/gibertantentas/.pyenv/versions/3.11.5/envs/IAA/lib/python3.11/site-packages (from datasets) (23.2)\n",
      "Requirement already satisfied: pyyaml>=5.1 in /Users/gibertantentas/.pyenv/versions/3.11.5/envs/IAA/lib/python3.11/site-packages (from datasets) (6.0.1)\n",
      "Requirement already satisfied: aiosignal>=1.1.2 in /Users/gibertantentas/.pyenv/versions/3.11.5/envs/IAA/lib/python3.11/site-packages (from aiohttp->datasets) (1.3.1)\n",
      "Requirement already satisfied: attrs>=17.3.0 in /Users/gibertantentas/.pyenv/versions/3.11.5/envs/IAA/lib/python3.11/site-packages (from aiohttp->datasets) (23.1.0)\n",
      "Requirement already satisfied: frozenlist>=1.1.1 in /Users/gibertantentas/.pyenv/versions/3.11.5/envs/IAA/lib/python3.11/site-packages (from aiohttp->datasets) (1.4.1)\n",
      "Requirement already satisfied: multidict<7.0,>=4.5 in /Users/gibertantentas/.pyenv/versions/3.11.5/envs/IAA/lib/python3.11/site-packages (from aiohttp->datasets) (6.0.5)\n",
      "Requirement already satisfied: yarl<2.0,>=1.0 in /Users/gibertantentas/.pyenv/versions/3.11.5/envs/IAA/lib/python3.11/site-packages (from aiohttp->datasets) (1.9.4)\n",
      "Requirement already satisfied: typing-extensions>=3.7.4.3 in /Users/gibertantentas/.pyenv/versions/3.11.5/envs/IAA/lib/python3.11/site-packages (from huggingface-hub>=0.21.2->datasets) (4.9.0)\n",
      "Requirement already satisfied: charset-normalizer<4,>=2 in /Users/gibertantentas/.pyenv/versions/3.11.5/envs/IAA/lib/python3.11/site-packages (from requests>=2.19.0->datasets) (3.3.2)\n",
      "Requirement already satisfied: idna<4,>=2.5 in /Users/gibertantentas/.pyenv/versions/3.11.5/envs/IAA/lib/python3.11/site-packages (from requests>=2.19.0->datasets) (3.6)\n",
      "Requirement already satisfied: urllib3<3,>=1.21.1 in /Users/gibertantentas/.pyenv/versions/3.11.5/envs/IAA/lib/python3.11/site-packages (from requests>=2.19.0->datasets) (2.1.0)\n",
      "Requirement already satisfied: certifi>=2017.4.17 in /Users/gibertantentas/.pyenv/versions/3.11.5/envs/IAA/lib/python3.11/site-packages (from requests>=2.19.0->datasets) (2023.11.17)\n",
      "Requirement already satisfied: python-dateutil>=2.8.2 in /Users/gibertantentas/.pyenv/versions/3.11.5/envs/IAA/lib/python3.11/site-packages (from pandas->datasets) (2.8.2)\n",
      "Requirement already satisfied: pytz>=2020.1 in /Users/gibertantentas/.pyenv/versions/3.11.5/envs/IAA/lib/python3.11/site-packages (from pandas->datasets) (2023.3.post1)\n",
      "Requirement already satisfied: tzdata>=2022.1 in /Users/gibertantentas/.pyenv/versions/3.11.5/envs/IAA/lib/python3.11/site-packages (from pandas->datasets) (2023.3)\n",
      "Requirement already satisfied: six>=1.5 in /Users/gibertantentas/.pyenv/versions/3.11.5/envs/IAA/lib/python3.11/site-packages (from python-dateutil>=2.8.2->pandas->datasets) (1.16.0)\n"
     ]
    },
    {
     "name": "stderr",
     "output_type": "stream",
     "text": [
      "/Users/gibertantentas/.pyenv/versions/3.11.5/envs/IAA/lib/python3.11/site-packages/datasets/load.py:1486: FutureWarning: The repository for projecte-aina/sts-ca contains custom code which must be executed to correctly load the dataset. You can inspect the repository content at https://hf.co/datasets/projecte-aina/sts-ca\n",
      "You can avoid this message in future by passing the argument `trust_remote_code=True`.\n",
      "Passing `trust_remote_code=True` will be mandatory to load this dataset from the next major release of `datasets`.\n",
      "  warnings.warn(\n"
     ]
    }
   ],
   "source": [
    "# Real data\n",
    "!pip install datasets\n",
    "from datasets import load_dataset\n",
    "#dataset = load_dataset(\"PlanTL-GOB-ES/sts-es\")\n",
    "dataset = load_dataset(\"projecte-aina/sts-ca\")"
   ]
  },
  {
   "cell_type": "code",
   "execution_count": 45,
   "metadata": {},
   "outputs": [
    {
     "name": "stdout",
     "output_type": "stream",
     "text": [
      "2073\n"
     ]
    }
   ],
   "source": [
    "print(len(dataset['train']))"
   ]
  },
  {
   "cell_type": "code",
   "execution_count": 46,
   "metadata": {},
   "outputs": [],
   "source": [
    "dataset['train'] = dataset['train'].select(range(len(dataset['train']) // 200))\n",
    "dataset['validation'] = dataset['validation'].select(range(len(dataset['validation']) // 200))\n",
    "dataset['test'] = dataset['test'].select(range(len(dataset['test']) // 200))\n",
    "\n"
   ]
  },
  {
   "cell_type": "code",
   "execution_count": 47,
   "metadata": {},
   "outputs": [
    {
     "name": "stdout",
     "output_type": "stream",
     "text": [
      "10\n"
     ]
    }
   ],
   "source": [
    "print(len(dataset['train']))"
   ]
  },
  {
   "cell_type": "code",
   "execution_count": 48,
   "metadata": {
    "ExecuteTime": {
     "end_time": "2024-05-28T09:59:02.460595Z",
     "start_time": "2024-05-28T09:59:02.451912Z"
    },
    "executionInfo": {
     "elapsed": 780,
     "status": "ok",
     "timestamp": 1715597378045,
     "user": {
      "displayName": "Dina Alfaro Diaz",
      "userId": "00309450318204567847"
     },
     "user_tz": -120
    },
    "id": "vQDyEimj7GRP"
   },
   "outputs": [],
   "source": [
    "input_pairs = [(e[\"sentence1\"], e[\"sentence2\"], e[\"label\"], ) for e in dataset[\"train\"].to_list()]\n",
    "input_pairs_val = [(e[\"sentence1\"], e[\"sentence2\"], e[\"label\"], ) for e in dataset[\"validation\"].to_list()]\n",
    "input_pairs_test = [(e[\"sentence1\"], e[\"sentence2\"], e[\"label\"], ) for e in dataset[\"test\"].to_list()]"
   ]
  },
  {
   "cell_type": "code",
   "execution_count": 49,
   "metadata": {
    "ExecuteTime": {
     "end_time": "2024-05-28T09:59:02.561477Z",
     "start_time": "2024-05-28T09:59:02.462797Z"
    },
    "executionInfo": {
     "elapsed": 593,
     "status": "ok",
     "timestamp": 1715597409676,
     "user": {
      "displayName": "Dina Alfaro Diaz",
      "userId": "00309450318204567847"
     },
     "user_tz": -120
    },
    "id": "rMqnONbQ7GRP"
   },
   "outputs": [],
   "source": [
    "all_input_pairs = input_pairs + input_pairs_val + input_pairs_test\n",
    "# Preprocesamiento de las oraciones y creación del diccionario\n",
    "sentences_1_preproc = [simple_preprocess(sentence_1) for sentence_1, _, _ in all_input_pairs]\n",
    "sentences_2_preproc = [simple_preprocess(sentence_2) for _, sentence_2, _ in all_input_pairs]\n",
    "sentence_pairs = list(zip(sentences_1_preproc, sentences_2_preproc))\n",
    "# Versión aplanada para poder entrenar el modelo\n",
    "sentences_pairs_flattened = sentences_1_preproc + sentences_2_preproc\n",
    "diccionario = Dictionary(sentences_pairs_flattened)"
   ]
  },
  {
   "cell_type": "code",
   "execution_count": 50,
   "metadata": {
    "ExecuteTime": {
     "end_time": "2024-05-28T09:59:02.563822Z",
     "start_time": "2024-05-28T09:59:02.562060Z"
    },
    "colab": {
     "base_uri": "https://localhost:8080/"
    },
    "executionInfo": {
     "elapsed": 575,
     "status": "ok",
     "timestamp": 1715597411656,
     "user": {
      "displayName": "Dina Alfaro Diaz",
      "userId": "00309450318204567847"
     },
     "user_tz": -120
    },
    "id": "kyt-gWng7GRQ",
    "outputId": "9c091323-1ab4-46fb-96fd-939986444864"
   },
   "outputs": [
    {
     "name": "stdout",
     "output_type": "stream",
     "text": [
      "(['atorga', 'per', 'primer', 'cop', 'les', 'mencions', 'encarna', 'sanahuja', 'la', 'inclusió', 'de', 'la', 'perspectiva', 'de', 'gènere', 'en', 'docència', 'universitària'], ['creen', 'la', 'menció', 'encarna', 'sanahuja', 'la', 'inclusió', 'de', 'la', 'perspectiva', 'de', 'gènere', 'en', 'docència', 'universitària'])\n"
     ]
    }
   ],
   "source": [
    "print(sentence_pairs[0])"
   ]
  },
  {
   "cell_type": "code",
   "execution_count": 51,
   "metadata": {
    "ExecuteTime": {
     "end_time": "2024-05-28T09:59:02.604166Z",
     "start_time": "2024-05-28T09:59:02.564663Z"
    },
    "executionInfo": {
     "elapsed": 412,
     "status": "ok",
     "timestamp": 1715597415528,
     "user": {
      "displayName": "Dina Alfaro Diaz",
      "userId": "00309450318204567847"
     },
     "user_tz": -120
    },
    "id": "0HYg0SVy7GRQ"
   },
   "outputs": [],
   "source": [
    "# Cálculo de los pesos TF-IDF para las oraciones pre-procesadas\n",
    "corpus = [diccionario.doc2bow(sent) for sent in sentences_pairs_flattened]\n",
    "modelo_tfidf = TfidfModel(corpus)"
   ]
  },
  {
   "cell_type": "code",
   "execution_count": 52,
   "metadata": {
    "ExecuteTime": {
     "end_time": "2024-05-28T09:59:02.608679Z",
     "start_time": "2024-05-28T09:59:02.604885Z"
    },
    "executionInfo": {
     "elapsed": 456,
     "status": "ok",
     "timestamp": 1715597433369,
     "user": {
      "displayName": "Dina Alfaro Diaz",
      "userId": "00309450318204567847"
     },
     "user_tz": -120
    },
    "id": "aiXFyd9E7GRQ"
   },
   "outputs": [],
   "source": [
    "def map_tf_idf(sentence_preproc: List[str], dictionary: Dictionary, tf_idf_model: TfidfModel) -> Tuple[List[np.ndarray], List[float]]:\n",
    "    bow = dictionary.doc2bow(sentence_preproc)\n",
    "    tf_idf = tf_idf_model[bow]\n",
    "    vectors, weights = [], []\n",
    "    for word_index, weight in tf_idf:\n",
    "        word = dictionary.get(word_index)\n",
    "        if word in wv_model:\n",
    "            vectors.append(wv_model[word])\n",
    "            weights.append(weight)\n",
    "    return vectors, weights\n",
    "    \n",
    "def map_pairs(\n",
    "        sentence_pairs: List[Tuple[str, str, float]],\n",
    "        dictionary: Dictionary = None,\n",
    "        tf_idf_model: TfidfModel = None,\n",
    ") -> List[Tuple[Tuple[np.ndarray, np.ndarray], float]]:\n",
    "    # Mapeo de los pares de oraciones a pares de vectores\n",
    "    pares_vectores = []\n",
    "    for i, (sentence_1, sentence_2, similitud) in enumerate(sentence_pairs):\n",
    "        #print('ABANS', sentence_1)\n",
    "        #print('ABANS', sentence_2)\n",
    "        sentence_1_preproc = preprocess(sentence_1)\n",
    "        sentence_2_preproc = preprocess(sentence_2)\n",
    "        # Si usamos TF-IDF\n",
    "        if tf_idf_model is not None:\n",
    "            # Cálculo del promedio ponderado por TF-IDF de los word embeddings\n",
    "            #print('DESPRES',sentence_1_preproc)\n",
    "            #print('DESPRES',sentence_2_preproc)\n",
    "            vectors1, weights1 = map_tf_idf(sentence_1_preproc, dictionary=dictionary, tf_idf_model=tf_idf_model, )\n",
    "            vectors2, weights2 = map_tf_idf(sentence_2_preproc, dictionary=dictionary, tf_idf_model=tf_idf_model, )\n",
    "            vector1 = np.average(vectors1, weights=weights1, axis=0, )\n",
    "            vector2 = np.average(vectors2, weights=weights2, axis=0, )\n",
    "        else:\n",
    "            # Cálculo del promedio de los word embeddings\n",
    "            vectors1 = [wv_model[word] for word in sentence_1_preproc if word in wv_model]\n",
    "            vectors2 = [wv_model[word] for word in sentence_2_preproc if word in wv_model]\n",
    "            vector1 = np.mean(vectors1, axis=0)\n",
    "            vector2 = np.mean(vectors2, axis=0)\n",
    "        # Añadir a la lista\n",
    "        pares_vectores.append(((vector1, vector2), similitud))\n",
    "    return pares_vectores"
   ]
  },
  {
   "cell_type": "code",
   "execution_count": 53,
   "metadata": {
    "ExecuteTime": {
     "end_time": "2024-05-28T09:59:03.411990Z",
     "start_time": "2024-05-28T09:59:02.609287Z"
    },
    "collapsed": false
   },
   "outputs": [],
   "source": [
    "# Imprimir los pares de vectores y la puntuación de similitud asociada\n",
    "mapped = map_pairs(input_pairs, tf_idf_model=modelo_tfidf, dictionary=diccionario, )\n",
    "# Imprimir los pares de vectores y la puntuación de similitud asociada\n",
    "mapped_train = map_pairs(input_pairs,  tf_idf_model=modelo_tfidf, dictionary=diccionario, )\n",
    "mapped_val = map_pairs(input_pairs_val, tf_idf_model=modelo_tfidf, dictionary=diccionario, )\n",
    "mapped_test = map_pairs(input_pairs_test, tf_idf_model=modelo_tfidf, dictionary=diccionario, )"
   ]
  },
  {
   "cell_type": "code",
   "execution_count": 54,
   "metadata": {
    "ExecuteTime": {
     "end_time": "2024-05-28T09:59:03.415028Z",
     "start_time": "2024-05-28T09:59:03.412652Z"
    },
    "colab": {
     "base_uri": "https://localhost:8080/"
    },
    "executionInfo": {
     "elapsed": 2504,
     "status": "ok",
     "timestamp": 1715597441300,
     "user": {
      "displayName": "Dina Alfaro Diaz",
      "userId": "00309450318204567847"
     },
     "user_tz": -120
    },
    "id": "MgiwMu8x7GRR",
    "outputId": "aca792a1-8fd7-444c-ed14-9e17357287ac"
   },
   "outputs": [
    {
     "name": "stdout",
     "output_type": "stream",
     "text": [
      "Pares de vectores: (100,), (100,)\n",
      "Puntuación de similitud: 3.5\n",
      "Pares de vectores: (100,), (100,)\n",
      "Puntuación de similitud: 1.25\n",
      "Pares de vectores: (100,), (100,)\n",
      "Puntuación de similitud: 3.6700000762939453\n",
      "Pares de vectores: (100,), (100,)\n",
      "Puntuación de similitud: 2.25\n",
      "Pares de vectores: (100,), (100,)\n",
      "Puntuación de similitud: 2.0\n"
     ]
    }
   ],
   "source": [
    "for vectors, similitud in mapped[:5]:\n",
    "    print(f\"Pares de vectores: {vectors[0].shape}, {vectors[1].shape}\")\n",
    "    print(f\"Puntuación de similitud: {similitud}\")"
   ]
  },
  {
   "cell_type": "code",
   "execution_count": 55,
   "metadata": {
    "ExecuteTime": {
     "end_time": "2024-05-28T12:46:39.753349Z",
     "start_time": "2024-05-28T12:46:39.746306Z"
    },
    "executionInfo": {
     "elapsed": 219,
     "status": "ok",
     "timestamp": 1715599333530,
     "user": {
      "displayName": "Dina Alfaro Diaz",
      "userId": "00309450318204567847"
     },
     "user_tz": -120
    },
    "id": "G0_GXuUJ7GRR"
   },
   "outputs": [],
   "source": [
    "# Define the Model\n",
    "import tensorflow as tf\n",
    "\n",
    "def build_and_compile_model(embedding_size: int = 100, learning_rate: float = 1e-3) -> tf.keras.Model:\n",
    "    # Capa de entrada para los pares de vectores\n",
    "    input_1 = tf.keras.Input(shape=(embedding_size,))\n",
    "    input_2 = tf.keras.Input(shape=(embedding_size,))\n",
    "\n",
    "    # Hidden layer\n",
    "    first_projection = tf.keras.layers.Dense(\n",
    "        embedding_size,\n",
    "        kernel_initializer=tf.keras.initializers.Identity(),\n",
    "        bias_initializer=tf.keras.initializers.Zeros(),\n",
    "    )\n",
    "    projected_1 = first_projection(input_1)\n",
    "    projected_2 = first_projection(input_2)\n",
    "    \n",
    "    # Compute the cosine distance using a Lambda layer\n",
    "    def cosine_distance(x):\n",
    "        x1, x2 = x\n",
    "        x1_normalized = tf.keras.backend.l2_normalize(x1, axis=1)\n",
    "        x2_normalized = tf.keras.backend.l2_normalize(x2, axis=1)\n",
    "        return 2.5 * (1.0 + tf.reduce_sum(x1_normalized * x2_normalized, axis=1))\n",
    "\n",
    "    output = tf.keras.layers.Lambda(cosine_distance)([projected_1, projected_2])\n",
    "    # Define output\n",
    "    model = tf.keras.Model(inputs=[input_1, input_2], outputs=output)\n",
    "\n",
    "    # Compile the model\n",
    "    model.compile(loss='mean_squared_error',\n",
    "                  optimizer=tf.keras.optimizers.Adamax(learning_rate))\n",
    "    return model"
   ]
  },
  {
   "cell_type": "code",
   "execution_count": 56,
   "metadata": {
    "ExecuteTime": {
     "end_time": "2024-05-28T12:46:39.936328Z",
     "start_time": "2024-05-28T12:46:39.931754Z"
    },
    "collapsed": false
   },
   "outputs": [],
   "source": [
    "def build_and_compile_model_better(embedding_size: int = 300, learning_rate: float = 1e-3) -> tf.keras.Model:\n",
    "    # Capa de entrada para los pares de vectores\n",
    "    input_1 = tf.keras.Input(shape=(embedding_size,))\n",
    "    input_2 = tf.keras.Input(shape=(embedding_size,))\n",
    "\n",
    "    # Hidden layer\n",
    "    first_projection = tf.keras.layers.Dense(\n",
    "        embedding_size,\n",
    "        kernel_initializer=tf.keras.initializers.Identity(),\n",
    "        bias_initializer=tf.keras.initializers.Zeros(),\n",
    "    )\n",
    "    projected_1 =  first_projection(input_1)\n",
    "    projected_2 = first_projection(input_2)\n",
    "    \n",
    "    # Compute the cosine distance using a Lambda layer\n",
    "    def normalized_product(x):\n",
    "        x1, x2 = x\n",
    "        x1_normalized = tf.keras.backend.l2_normalize(x1, axis=1)\n",
    "        x2_normalized = tf.keras.backend.l2_normalize(x2, axis=1)\n",
    "        return x1_normalized * x2_normalized\n",
    "\n",
    "    output = tf.keras.layers.Lambda(normalized_product)([projected_1, projected_2])\n",
    "    output = tf.keras.layers.Dropout(0.1)(output)\n",
    "    output = tf.keras.layers.Dense(\n",
    "        16,\n",
    "        activation=\"relu\",\n",
    "    )(output)\n",
    "    output = tf.keras.layers.Dropout(0.2)(output)\n",
    "    output = tf.keras.layers.Dense(\n",
    "        1,\n",
    "        activation=\"sigmoid\",\n",
    "    )(output)\n",
    "    \n",
    "    output = tf.keras.layers.Lambda(lambda x: x * 5)(output)\n",
    "    \n",
    "    # Define output\n",
    "    model = tf.keras.Model(inputs=[input_1, input_2], outputs=output)\n",
    "\n",
    "    # Compile the model\n",
    "    model.compile(loss='mean_squared_error',\n",
    "                  optimizer=tf.keras.optimizers.Adam(learning_rate))\n",
    "    return model"
   ]
  },
  {
   "cell_type": "code",
   "execution_count": 57,
   "metadata": {
    "ExecuteTime": {
     "end_time": "2024-05-28T12:46:40.098561Z",
     "start_time": "2024-05-28T12:46:40.095327Z"
    },
    "executionInfo": {
     "elapsed": 962,
     "status": "ok",
     "timestamp": 1715597604879,
     "user": {
      "displayName": "Dina Alfaro Diaz",
      "userId": "00309450318204567847"
     },
     "user_tz": -120
    },
    "id": "ZoIGVYnV7GRR"
   },
   "outputs": [],
   "source": [
    "# Define training constants\n",
    "batch_size: int = 64\n",
    "#num_epochs: int = 64\n",
    "num_epochs: int = 2"
   ]
  },
  {
   "cell_type": "code",
   "execution_count": 58,
   "metadata": {
    "ExecuteTime": {
     "end_time": "2024-05-28T12:46:40.292657Z",
     "start_time": "2024-05-28T12:46:40.282719Z"
    },
    "executionInfo": {
     "elapsed": 2,
     "status": "ok",
     "timestamp": 1715597607241,
     "user": {
      "displayName": "Dina Alfaro Diaz",
      "userId": "00309450318204567847"
     },
     "user_tz": -120
    },
    "id": "tNU34wZK7GRR"
   },
   "outputs": [],
   "source": [
    "def pair_list_to_x_y(pair_list: List[Tuple[Tuple[np.ndarray, np.ndarray], int]]) -> Tuple[Tuple[np.ndarray, np.ndarray], np.ndarray]:\n",
    "    _x, _y = zip(*pair_list)\n",
    "    _x_1, _x_2 = zip(*_x)\n",
    "    return (np.array(_x_1), np.array(_x_2)), np.array(_y, dtype=np.float32, )\n",
    "\n",
    "# Obtener las listas de train y test\n",
    "x_train, y_train = pair_list_to_x_y(mapped_train)\n",
    "x_val, y_val = pair_list_to_x_y(mapped_val)"
   ]
  },
  {
   "cell_type": "code",
   "execution_count": 59,
   "metadata": {
    "ExecuteTime": {
     "end_time": "2024-05-28T12:46:40.601343Z",
     "start_time": "2024-05-28T12:46:40.591404Z"
    },
    "executionInfo": {
     "elapsed": 1,
     "status": "ok",
     "timestamp": 1715597609867,
     "user": {
      "displayName": "Dina Alfaro Diaz",
      "userId": "00309450318204567847"
     },
     "user_tz": -120
    },
    "id": "XElxzMpa7GRR"
   },
   "outputs": [],
   "source": [
    "# Preparar los conjuntos de datos de entrenamiento y validación\n",
    "train_dataset = tf.data.Dataset.from_tensor_slices((x_train, y_train))\n",
    "train_dataset = train_dataset.shuffle(buffer_size=len(x_train)).batch(batch_size)\n",
    "\n",
    "val_dataset = tf.data.Dataset.from_tensor_slices((x_val, y_val))\n",
    "val_dataset = val_dataset.batch(batch_size)"
   ]
  },
  {
   "cell_type": "code",
   "execution_count": 60,
   "metadata": {
    "ExecuteTime": {
     "end_time": "2024-05-28T12:46:40.762267Z",
     "start_time": "2024-05-28T12:46:40.759596Z"
    },
    "collapsed": false
   },
   "outputs": [
    {
     "data": {
      "text/plain": [
       "((10, 100), (10, 100), (10,))"
      ]
     },
     "execution_count": 60,
     "metadata": {},
     "output_type": "execute_result"
    }
   ],
   "source": [
    "# Show shapes\n",
    "x_train[0].shape, x_train[1].shape, y_train.shape"
   ]
  },
  {
   "cell_type": "code",
   "execution_count": null,
   "metadata": {},
   "outputs": [],
   "source": []
  },
  {
   "cell_type": "code",
   "execution_count": 61,
   "metadata": {
    "ExecuteTime": {
     "end_time": "2024-05-28T12:46:40.960340Z",
     "start_time": "2024-05-28T12:46:40.922757Z"
    },
    "collapsed": false
   },
   "outputs": [
    {
     "data": {
      "text/html": [
       "<pre style=\"white-space:pre;overflow-x:auto;line-height:normal;font-family:Menlo,'DejaVu Sans Mono',consolas,'Courier New',monospace\"><span style=\"font-weight: bold\">Model: \"functional_3\"</span>\n",
       "</pre>\n"
      ],
      "text/plain": [
       "\u001b[1mModel: \"functional_3\"\u001b[0m\n"
      ]
     },
     "metadata": {},
     "output_type": "display_data"
    },
    {
     "data": {
      "text/html": [
       "<pre style=\"white-space:pre;overflow-x:auto;line-height:normal;font-family:Menlo,'DejaVu Sans Mono',consolas,'Courier New',monospace\">┏━━━━━━━━━━━━━━━━━━━━━┳━━━━━━━━━━━━━━━━━━━┳━━━━━━━━━━━━┳━━━━━━━━━━━━━━━━━━━┓\n",
       "┃<span style=\"font-weight: bold\"> Layer (type)        </span>┃<span style=\"font-weight: bold\"> Output Shape      </span>┃<span style=\"font-weight: bold\">    Param # </span>┃<span style=\"font-weight: bold\"> Connected to      </span>┃\n",
       "┡━━━━━━━━━━━━━━━━━━━━━╇━━━━━━━━━━━━━━━━━━━╇━━━━━━━━━━━━╇━━━━━━━━━━━━━━━━━━━┩\n",
       "│ input_layer_2       │ (<span style=\"color: #00d7ff; text-decoration-color: #00d7ff\">None</span>, <span style=\"color: #00af00; text-decoration-color: #00af00\">100</span>)       │          <span style=\"color: #00af00; text-decoration-color: #00af00\">0</span> │ -                 │\n",
       "│ (<span style=\"color: #0087ff; text-decoration-color: #0087ff\">InputLayer</span>)        │                   │            │                   │\n",
       "├─────────────────────┼───────────────────┼────────────┼───────────────────┤\n",
       "│ input_layer_3       │ (<span style=\"color: #00d7ff; text-decoration-color: #00d7ff\">None</span>, <span style=\"color: #00af00; text-decoration-color: #00af00\">100</span>)       │          <span style=\"color: #00af00; text-decoration-color: #00af00\">0</span> │ -                 │\n",
       "│ (<span style=\"color: #0087ff; text-decoration-color: #0087ff\">InputLayer</span>)        │                   │            │                   │\n",
       "├─────────────────────┼───────────────────┼────────────┼───────────────────┤\n",
       "│ dense_1 (<span style=\"color: #0087ff; text-decoration-color: #0087ff\">Dense</span>)     │ (<span style=\"color: #00d7ff; text-decoration-color: #00d7ff\">None</span>, <span style=\"color: #00af00; text-decoration-color: #00af00\">100</span>)       │     <span style=\"color: #00af00; text-decoration-color: #00af00\">10,100</span> │ input_layer_2[<span style=\"color: #00af00; text-decoration-color: #00af00\">0</span>]… │\n",
       "│                     │                   │            │ input_layer_3[<span style=\"color: #00af00; text-decoration-color: #00af00\">0</span>]… │\n",
       "├─────────────────────┼───────────────────┼────────────┼───────────────────┤\n",
       "│ lambda_1 (<span style=\"color: #0087ff; text-decoration-color: #0087ff\">Lambda</span>)   │ (<span style=\"color: #00d7ff; text-decoration-color: #00d7ff\">None</span>)            │          <span style=\"color: #00af00; text-decoration-color: #00af00\">0</span> │ dense_1[<span style=\"color: #00af00; text-decoration-color: #00af00\">0</span>][<span style=\"color: #00af00; text-decoration-color: #00af00\">0</span>],    │\n",
       "│                     │                   │            │ dense_1[<span style=\"color: #00af00; text-decoration-color: #00af00\">1</span>][<span style=\"color: #00af00; text-decoration-color: #00af00\">0</span>]     │\n",
       "└─────────────────────┴───────────────────┴────────────┴───────────────────┘\n",
       "</pre>\n"
      ],
      "text/plain": [
       "┏━━━━━━━━━━━━━━━━━━━━━┳━━━━━━━━━━━━━━━━━━━┳━━━━━━━━━━━━┳━━━━━━━━━━━━━━━━━━━┓\n",
       "┃\u001b[1m \u001b[0m\u001b[1mLayer (type)       \u001b[0m\u001b[1m \u001b[0m┃\u001b[1m \u001b[0m\u001b[1mOutput Shape     \u001b[0m\u001b[1m \u001b[0m┃\u001b[1m \u001b[0m\u001b[1m   Param #\u001b[0m\u001b[1m \u001b[0m┃\u001b[1m \u001b[0m\u001b[1mConnected to     \u001b[0m\u001b[1m \u001b[0m┃\n",
       "┡━━━━━━━━━━━━━━━━━━━━━╇━━━━━━━━━━━━━━━━━━━╇━━━━━━━━━━━━╇━━━━━━━━━━━━━━━━━━━┩\n",
       "│ input_layer_2       │ (\u001b[38;5;45mNone\u001b[0m, \u001b[38;5;34m100\u001b[0m)       │          \u001b[38;5;34m0\u001b[0m │ -                 │\n",
       "│ (\u001b[38;5;33mInputLayer\u001b[0m)        │                   │            │                   │\n",
       "├─────────────────────┼───────────────────┼────────────┼───────────────────┤\n",
       "│ input_layer_3       │ (\u001b[38;5;45mNone\u001b[0m, \u001b[38;5;34m100\u001b[0m)       │          \u001b[38;5;34m0\u001b[0m │ -                 │\n",
       "│ (\u001b[38;5;33mInputLayer\u001b[0m)        │                   │            │                   │\n",
       "├─────────────────────┼───────────────────┼────────────┼───────────────────┤\n",
       "│ dense_1 (\u001b[38;5;33mDense\u001b[0m)     │ (\u001b[38;5;45mNone\u001b[0m, \u001b[38;5;34m100\u001b[0m)       │     \u001b[38;5;34m10,100\u001b[0m │ input_layer_2[\u001b[38;5;34m0\u001b[0m]… │\n",
       "│                     │                   │            │ input_layer_3[\u001b[38;5;34m0\u001b[0m]… │\n",
       "├─────────────────────┼───────────────────┼────────────┼───────────────────┤\n",
       "│ lambda_1 (\u001b[38;5;33mLambda\u001b[0m)   │ (\u001b[38;5;45mNone\u001b[0m)            │          \u001b[38;5;34m0\u001b[0m │ dense_1[\u001b[38;5;34m0\u001b[0m][\u001b[38;5;34m0\u001b[0m],    │\n",
       "│                     │                   │            │ dense_1[\u001b[38;5;34m1\u001b[0m][\u001b[38;5;34m0\u001b[0m]     │\n",
       "└─────────────────────┴───────────────────┴────────────┴───────────────────┘\n"
      ]
     },
     "metadata": {},
     "output_type": "display_data"
    },
    {
     "data": {
      "text/html": [
       "<pre style=\"white-space:pre;overflow-x:auto;line-height:normal;font-family:Menlo,'DejaVu Sans Mono',consolas,'Courier New',monospace\"><span style=\"font-weight: bold\"> Total params: </span><span style=\"color: #00af00; text-decoration-color: #00af00\">10,100</span> (39.45 KB)\n",
       "</pre>\n"
      ],
      "text/plain": [
       "\u001b[1m Total params: \u001b[0m\u001b[38;5;34m10,100\u001b[0m (39.45 KB)\n"
      ]
     },
     "metadata": {},
     "output_type": "display_data"
    },
    {
     "data": {
      "text/html": [
       "<pre style=\"white-space:pre;overflow-x:auto;line-height:normal;font-family:Menlo,'DejaVu Sans Mono',consolas,'Courier New',monospace\"><span style=\"font-weight: bold\"> Trainable params: </span><span style=\"color: #00af00; text-decoration-color: #00af00\">10,100</span> (39.45 KB)\n",
       "</pre>\n"
      ],
      "text/plain": [
       "\u001b[1m Trainable params: \u001b[0m\u001b[38;5;34m10,100\u001b[0m (39.45 KB)\n"
      ]
     },
     "metadata": {},
     "output_type": "display_data"
    },
    {
     "data": {
      "text/html": [
       "<pre style=\"white-space:pre;overflow-x:auto;line-height:normal;font-family:Menlo,'DejaVu Sans Mono',consolas,'Courier New',monospace\"><span style=\"font-weight: bold\"> Non-trainable params: </span><span style=\"color: #00af00; text-decoration-color: #00af00\">0</span> (0.00 B)\n",
       "</pre>\n"
      ],
      "text/plain": [
       "\u001b[1m Non-trainable params: \u001b[0m\u001b[38;5;34m0\u001b[0m (0.00 B)\n"
      ]
     },
     "metadata": {},
     "output_type": "display_data"
    },
    {
     "name": "stdout",
     "output_type": "stream",
     "text": [
      "None\n"
     ]
    }
   ],
   "source": [
    "# Construir y compilar el modelo\n",
    "model = build_and_compile_model()\n",
    "#tf.keras.utils.plot_model(model, show_shapes=True, show_layer_activations=True, )\n",
    "print(model.summary())"
   ]
  },
  {
   "cell_type": "code",
   "execution_count": 62,
   "metadata": {},
   "outputs": [
    {
     "data": {
      "text/plain": [
       "\"import fasttext\\n\\n# Función para escribir el corpus en un archivo de texto\\ndef write_corpus_to_file(input_pairs, file_path):\\n    with open(file_path, 'w', encoding='utf-8') as f:\\n        for sentence_1, sentence_2, _ in input_pairs:\\n            sentence_1_preproc = preprocess(sentence_1)\\n            sentence_2_preproc = preprocess(sentence_2)\\n            f.write(' '.join(sentence_1_preproc) + '\\n')\\n            f.write(' '.join(sentence_2_preproc) + '\\n')\\n\\n# Escribir los corpus en archivos de texto\\nwrite_corpus_to_file(input_pairs, 'corpus_train.txt')\\nwrite_corpus_to_file(input_pairs_val, 'corpus_val.txt')\\nwrite_corpus_to_file(input_pairs_test, 'corpus_test.txt')\\n\\n# Entrenar el modelo FastText utilizando el corpus de entrenamiento\\nmodel = fasttext.train_unsupervised(input='corpus_train.txt', model='skipgram', epoch=10, lr=0.1, dim=100, minCount=1, wordNgrams=1)\\n\\n# Guardar el modelo entrenado\\nmodel.save_model('fasttext_model.bin')\\n\""
      ]
     },
     "execution_count": 62,
     "metadata": {},
     "output_type": "execute_result"
    }
   ],
   "source": [
    "'''import fasttext\n",
    "\n",
    "# Función para escribir el corpus en un archivo de texto\n",
    "def write_corpus_to_file(input_pairs, file_path):\n",
    "    with open(file_path, 'w', encoding='utf-8') as f:\n",
    "        for sentence_1, sentence_2, _ in input_pairs:\n",
    "            sentence_1_preproc = preprocess(sentence_1)\n",
    "            sentence_2_preproc = preprocess(sentence_2)\n",
    "            f.write(' '.join(sentence_1_preproc) + '\\n')\n",
    "            f.write(' '.join(sentence_2_preproc) + '\\n')\n",
    "\n",
    "# Escribir los corpus en archivos de texto\n",
    "write_corpus_to_file(input_pairs, 'corpus_train.txt')\n",
    "write_corpus_to_file(input_pairs_val, 'corpus_val.txt')\n",
    "write_corpus_to_file(input_pairs_test, 'corpus_test.txt')\n",
    "\n",
    "# Entrenar el modelo FastText utilizando el corpus de entrenamiento\n",
    "model = fasttext.train_unsupervised(input='corpus_train.txt', model='skipgram', epoch=10, lr=0.1, dim=100, minCount=1, wordNgrams=1)\n",
    "\n",
    "# Guardar el modelo entrenado\n",
    "model.save_model('fasttext_model.bin')\n",
    "'''"
   ]
  },
  {
   "cell_type": "code",
   "execution_count": 63,
   "metadata": {
    "ExecuteTime": {
     "end_time": "2024-05-28T12:46:43.103664Z",
     "start_time": "2024-05-28T12:46:41.094851Z"
    },
    "colab": {
     "base_uri": "https://localhost:8080/"
    },
    "executionInfo": {
     "elapsed": 8946,
     "status": "ok",
     "timestamp": 1715597768228,
     "user": {
      "displayName": "Dina Alfaro Diaz",
      "userId": "00309450318204567847"
     },
     "user_tz": -120
    },
    "id": "U2krsMjT7GRR",
    "outputId": "49b6c7ed-e0e7-4e56-c10e-bec86d3b3622"
   },
   "outputs": [
    {
     "name": "stdout",
     "output_type": "stream",
     "text": [
      "Epoch 1/2\n"
     ]
    }
   ],
   "source": [
    "# Train the model\n",
    "model.fit(train_dataset, epochs=num_epochs, validation_data=val_dataset)"
   ]
  },
  {
   "cell_type": "code",
   "execution_count": null,
   "metadata": {
    "ExecuteTime": {
     "end_time": "2024-05-28T12:46:43.106894Z",
     "start_time": "2024-05-28T12:46:43.104650Z"
    },
    "executionInfo": {
     "elapsed": 490,
     "status": "ok",
     "timestamp": 1715598070173,
     "user": {
      "displayName": "Dina Alfaro Diaz",
      "userId": "00309450318204567847"
     },
     "user_tz": -120
    },
    "id": "ndZy32667GRR"
   },
   "outputs": [],
   "source": [
    "from scipy.stats import pearsonr\n",
    "x_test, y_test = pair_list_to_x_y(mapped_test)"
   ]
  },
  {
   "cell_type": "code",
   "execution_count": null,
   "metadata": {
    "ExecuteTime": {
     "end_time": "2024-05-28T12:46:43.125798Z",
     "start_time": "2024-05-28T12:46:43.107428Z"
    },
    "colab": {
     "base_uri": "https://localhost:8080/"
    },
    "executionInfo": {
     "elapsed": 276,
     "status": "ok",
     "timestamp": 1715598073380,
     "user": {
      "displayName": "Dina Alfaro Diaz",
      "userId": "00309450318204567847"
     },
     "user_tz": -120
    },
    "id": "b2vGHeNg7GRR",
    "outputId": "1c25de9f-345c-44c7-ce46-9e09213dd479"
   },
   "outputs": [
    {
     "name": "stdout",
     "output_type": "stream",
     "text": [
      "Correlación de Pearson (baseline-train): 0.6183244864535127\n",
      "Correlación de Pearson (baseline-validation): 0.7813210222946088\n",
      "Correlación de Pearson (baseline-test): 0.6335381615219905\n"
     ]
    }
   ],
   "source": [
    "# Baseline\n",
    "def compute_pearson_baseline(x_, y_):\n",
    "    y_pred_baseline = []\n",
    "    for v1, v2 in zip(*x_):\n",
    "        d = 1.0 - spatial.distance.cosine(v1, v2)\n",
    "        y_pred_baseline.append(d)\n",
    "    # Calcular la correlación de Pearson entre las predicciones y los datos de prueba\n",
    "    correlation, _ = pearsonr(y_pred_baseline, y_.flatten())\n",
    "    return correlation\n",
    "# Imprimir el coeficiente de correlación de Pearson\n",
    "print(f\"Correlación de Pearson (baseline-train): {compute_pearson_baseline(x_train, y_train)}\")\n",
    "print(f\"Correlación de Pearson (baseline-validation): {compute_pearson_baseline(x_val, y_val)}\")\n",
    "print(f\"Correlación de Pearson (baseline-test): {compute_pearson_baseline(x_test, y_test)}\")"
   ]
  },
  {
   "cell_type": "code",
   "execution_count": null,
   "metadata": {
    "ExecuteTime": {
     "end_time": "2024-05-28T12:46:43.294476Z",
     "start_time": "2024-05-28T12:46:43.129327Z"
    },
    "colab": {
     "base_uri": "https://localhost:8080/"
    },
    "executionInfo": {
     "elapsed": 1143,
     "status": "ok",
     "timestamp": 1715598078078,
     "user": {
      "displayName": "Dina Alfaro Diaz",
      "userId": "00309450318204567847"
     },
     "user_tz": -120
    },
    "id": "Qeq6GdH77GRR",
    "outputId": "7259df4b-208c-4e37-fb8e-5cc35d92bb6e"
   },
   "outputs": [
    {
     "name": "stdout",
     "output_type": "stream",
     "text": [
      "42/42 [==============================] - 0s 768us/step\n",
      "Correlación de Pearson (train): 0.9304827865557197\n",
      "3/3 [==============================] - 0s 1ms/step\n",
      "Correlación de Pearson (validation): 0.6014932513445799\n",
      "5/5 [==============================] - 0s 796us/step\n",
      "Correlación de Pearson (test): 0.6084397809211268\n"
     ]
    }
   ],
   "source": [
    "def compute_pearson(x_, y_):\n",
    "    # Obtener las predicciones del modelo para los datos de prueba. En este ejemplo vamos a utilizar el corpus de training.\n",
    "    y_pred = model.predict(x_)\n",
    "    # Calcular la correlación de Pearson entre las predicciones y los datos de prueba\n",
    "    correlation, _ = pearsonr(y_pred.flatten(), y_.flatten())\n",
    "    return correlation\n",
    "# Imprimir el coeficiente de correlación de Pearson\n",
    "print(f\"Correlación de Pearson (train): {compute_pearson(x_train, y_train)}\")\n",
    "print(f\"Correlación de Pearson (validation): {compute_pearson(x_val, y_val)}\")\n",
    "print(f\"Correlación de Pearson (test): {compute_pearson(x_test, y_test)}\")"
   ]
  },
  {
   "cell_type": "code",
   "execution_count": null,
   "metadata": {
    "ExecuteTime": {
     "end_time": "2024-05-28T12:43:05.056833Z",
     "start_time": "2024-05-28T12:43:05.055539Z"
    },
    "collapsed": false
   },
   "outputs": [],
   "source": []
  },
  {
   "cell_type": "code",
   "execution_count": null,
   "metadata": {
    "collapsed": false
   },
   "outputs": [],
   "source": []
  }
 ],
 "metadata": {
  "colab": {
   "provenance": [
    {
     "file_id": "1nS7eeXC23ihx7SKJH1jpUIptOC9W_I1q",
     "timestamp": 1715595784255
    },
    {
     "file_id": "1ADkVK-II3TlSe3DsSUeiZUP4rirhPhl8",
     "timestamp": 1714923604128
    }
   ]
  },
  "kernelspec": {
   "display_name": "Python 3",
   "language": "python",
   "name": "python3"
  },
  "language_info": {
   "codemirror_mode": {
    "name": "ipython",
    "version": 2
   },
   "file_extension": ".py",
   "mimetype": "text/x-python",
   "name": "python",
   "nbconvert_exporter": "python",
   "pygments_lexer": "ipython2",
   "version": "2.7.6"
  },
  "widgets": {
   "application/vnd.jupyter.widget-state+json": {
    "0619db8c587e407bbb71f4266ba59c9d": {
     "model_module": "@jupyter-widgets/controls",
     "model_module_version": "1.5.0",
     "model_name": "DescriptionStyleModel",
     "state": {
      "_model_module": "@jupyter-widgets/controls",
      "_model_module_version": "1.5.0",
      "_model_name": "DescriptionStyleModel",
      "_view_count": null,
      "_view_module": "@jupyter-widgets/base",
      "_view_module_version": "1.2.0",
      "_view_name": "StyleView",
      "description_width": ""
     }
    },
    "0a7ecba944724ab597f3fbfee5dadb44": {
     "model_module": "@jupyter-widgets/controls",
     "model_module_version": "1.5.0",
     "model_name": "DescriptionStyleModel",
     "state": {
      "_model_module": "@jupyter-widgets/controls",
      "_model_module_version": "1.5.0",
      "_model_name": "DescriptionStyleModel",
      "_view_count": null,
      "_view_module": "@jupyter-widgets/base",
      "_view_module_version": "1.2.0",
      "_view_name": "StyleView",
      "description_width": ""
     }
    },
    "0b8c1047b47d4f39b5f8bde6a348704b": {
     "model_module": "@jupyter-widgets/controls",
     "model_module_version": "1.5.0",
     "model_name": "HTMLModel",
     "state": {
      "_dom_classes": [],
      "_model_module": "@jupyter-widgets/controls",
      "_model_module_version": "1.5.0",
      "_model_name": "HTMLModel",
      "_view_count": null,
      "_view_module": "@jupyter-widgets/controls",
      "_view_module_version": "1.5.0",
      "_view_name": "HTMLView",
      "description": "",
      "description_tooltip": null,
      "layout": "IPY_MODEL_ee135d6e1a8c4042b2d155609fcce7bb",
      "placeholder": "​",
      "style": "IPY_MODEL_ef08bea292924aefbce06188388be7b0",
      "value": "Generating test split: 100%"
     }
    },
    "0df785030f164f39b7eb0fcbaf40cb10": {
     "model_module": "@jupyter-widgets/base",
     "model_module_version": "1.2.0",
     "model_name": "LayoutModel",
     "state": {
      "_model_module": "@jupyter-widgets/base",
      "_model_module_version": "1.2.0",
      "_model_name": "LayoutModel",
      "_view_count": null,
      "_view_module": "@jupyter-widgets/base",
      "_view_module_version": "1.2.0",
      "_view_name": "LayoutView",
      "align_content": null,
      "align_items": null,
      "align_self": null,
      "border": null,
      "bottom": null,
      "display": null,
      "flex": null,
      "flex_flow": null,
      "grid_area": null,
      "grid_auto_columns": null,
      "grid_auto_flow": null,
      "grid_auto_rows": null,
      "grid_column": null,
      "grid_gap": null,
      "grid_row": null,
      "grid_template_areas": null,
      "grid_template_columns": null,
      "grid_template_rows": null,
      "height": null,
      "justify_content": null,
      "justify_items": null,
      "left": null,
      "margin": null,
      "max_height": null,
      "max_width": null,
      "min_height": null,
      "min_width": null,
      "object_fit": null,
      "object_position": null,
      "order": null,
      "overflow": null,
      "overflow_x": null,
      "overflow_y": null,
      "padding": null,
      "right": null,
      "top": null,
      "visibility": null,
      "width": null
     }
    },
    "0f14c341c2694a6ea6dfe6dfc4fa967a": {
     "model_module": "@jupyter-widgets/base",
     "model_module_version": "1.2.0",
     "model_name": "LayoutModel",
     "state": {
      "_model_module": "@jupyter-widgets/base",
      "_model_module_version": "1.2.0",
      "_model_name": "LayoutModel",
      "_view_count": null,
      "_view_module": "@jupyter-widgets/base",
      "_view_module_version": "1.2.0",
      "_view_name": "LayoutView",
      "align_content": null,
      "align_items": null,
      "align_self": null,
      "border": null,
      "bottom": null,
      "display": null,
      "flex": null,
      "flex_flow": null,
      "grid_area": null,
      "grid_auto_columns": null,
      "grid_auto_flow": null,
      "grid_auto_rows": null,
      "grid_column": null,
      "grid_gap": null,
      "grid_row": null,
      "grid_template_areas": null,
      "grid_template_columns": null,
      "grid_template_rows": null,
      "height": null,
      "justify_content": null,
      "justify_items": null,
      "left": null,
      "margin": null,
      "max_height": null,
      "max_width": null,
      "min_height": null,
      "min_width": null,
      "object_fit": null,
      "object_position": null,
      "order": null,
      "overflow": null,
      "overflow_x": null,
      "overflow_y": null,
      "padding": null,
      "right": null,
      "top": null,
      "visibility": null,
      "width": null
     }
    },
    "13e0a577c0c24880be176a80a0d8b74b": {
     "model_module": "@jupyter-widgets/controls",
     "model_module_version": "1.5.0",
     "model_name": "HBoxModel",
     "state": {
      "_dom_classes": [],
      "_model_module": "@jupyter-widgets/controls",
      "_model_module_version": "1.5.0",
      "_model_name": "HBoxModel",
      "_view_count": null,
      "_view_module": "@jupyter-widgets/controls",
      "_view_module_version": "1.5.0",
      "_view_name": "HBoxView",
      "box_style": "",
      "children": [
       "IPY_MODEL_d492906490fe4ace9c313a718f4abba8",
       "IPY_MODEL_69603de110cc4421823e7e333bd4e685",
       "IPY_MODEL_5226c9b3b2144ff6ac70240f7068ea7c"
      ],
      "layout": "IPY_MODEL_eca42b2a5a6d4cd1aeadccf98788d437"
     }
    },
    "144a8dcc90804accb8b5c96cf241f934": {
     "model_module": "@jupyter-widgets/base",
     "model_module_version": "1.2.0",
     "model_name": "LayoutModel",
     "state": {
      "_model_module": "@jupyter-widgets/base",
      "_model_module_version": "1.2.0",
      "_model_name": "LayoutModel",
      "_view_count": null,
      "_view_module": "@jupyter-widgets/base",
      "_view_module_version": "1.2.0",
      "_view_name": "LayoutView",
      "align_content": null,
      "align_items": null,
      "align_self": null,
      "border": null,
      "bottom": null,
      "display": null,
      "flex": null,
      "flex_flow": null,
      "grid_area": null,
      "grid_auto_columns": null,
      "grid_auto_flow": null,
      "grid_auto_rows": null,
      "grid_column": null,
      "grid_gap": null,
      "grid_row": null,
      "grid_template_areas": null,
      "grid_template_columns": null,
      "grid_template_rows": null,
      "height": null,
      "justify_content": null,
      "justify_items": null,
      "left": null,
      "margin": null,
      "max_height": null,
      "max_width": null,
      "min_height": null,
      "min_width": null,
      "object_fit": null,
      "object_position": null,
      "order": null,
      "overflow": null,
      "overflow_x": null,
      "overflow_y": null,
      "padding": null,
      "right": null,
      "top": null,
      "visibility": null,
      "width": null
     }
    },
    "15fe494b4725464bab5da7edc6aff469": {
     "model_module": "@jupyter-widgets/base",
     "model_module_version": "1.2.0",
     "model_name": "LayoutModel",
     "state": {
      "_model_module": "@jupyter-widgets/base",
      "_model_module_version": "1.2.0",
      "_model_name": "LayoutModel",
      "_view_count": null,
      "_view_module": "@jupyter-widgets/base",
      "_view_module_version": "1.2.0",
      "_view_name": "LayoutView",
      "align_content": null,
      "align_items": null,
      "align_self": null,
      "border": null,
      "bottom": null,
      "display": null,
      "flex": null,
      "flex_flow": null,
      "grid_area": null,
      "grid_auto_columns": null,
      "grid_auto_flow": null,
      "grid_auto_rows": null,
      "grid_column": null,
      "grid_gap": null,
      "grid_row": null,
      "grid_template_areas": null,
      "grid_template_columns": null,
      "grid_template_rows": null,
      "height": null,
      "justify_content": null,
      "justify_items": null,
      "left": null,
      "margin": null,
      "max_height": null,
      "max_width": null,
      "min_height": null,
      "min_width": null,
      "object_fit": null,
      "object_position": null,
      "order": null,
      "overflow": null,
      "overflow_x": null,
      "overflow_y": null,
      "padding": null,
      "right": null,
      "top": null,
      "visibility": null,
      "width": null
     }
    },
    "22ea76e1f2e3414cb55d079b234ecc38": {
     "model_module": "@jupyter-widgets/controls",
     "model_module_version": "1.5.0",
     "model_name": "FloatProgressModel",
     "state": {
      "_dom_classes": [],
      "_model_module": "@jupyter-widgets/controls",
      "_model_module_version": "1.5.0",
      "_model_name": "FloatProgressModel",
      "_view_count": null,
      "_view_module": "@jupyter-widgets/controls",
      "_view_module_version": "1.5.0",
      "_view_name": "ProgressView",
      "bar_style": "success",
      "description": "",
      "description_tooltip": null,
      "layout": "IPY_MODEL_a66b1b58a7ed4cb681600e49378f42a3",
      "max": 77,
      "min": 0,
      "orientation": "horizontal",
      "style": "IPY_MODEL_7524b3f3a0da43088b780d68f10dd94c",
      "value": 77
     }
    },
    "249808ece0894aaaaf1350ffdb41fc8b": {
     "model_module": "@jupyter-widgets/base",
     "model_module_version": "1.2.0",
     "model_name": "LayoutModel",
     "state": {
      "_model_module": "@jupyter-widgets/base",
      "_model_module_version": "1.2.0",
      "_model_name": "LayoutModel",
      "_view_count": null,
      "_view_module": "@jupyter-widgets/base",
      "_view_module_version": "1.2.0",
      "_view_name": "LayoutView",
      "align_content": null,
      "align_items": null,
      "align_self": null,
      "border": null,
      "bottom": null,
      "display": null,
      "flex": null,
      "flex_flow": null,
      "grid_area": null,
      "grid_auto_columns": null,
      "grid_auto_flow": null,
      "grid_auto_rows": null,
      "grid_column": null,
      "grid_gap": null,
      "grid_row": null,
      "grid_template_areas": null,
      "grid_template_columns": null,
      "grid_template_rows": null,
      "height": null,
      "justify_content": null,
      "justify_items": null,
      "left": null,
      "margin": null,
      "max_height": null,
      "max_width": null,
      "min_height": null,
      "min_width": null,
      "object_fit": null,
      "object_position": null,
      "order": null,
      "overflow": null,
      "overflow_x": null,
      "overflow_y": null,
      "padding": null,
      "right": null,
      "top": null,
      "visibility": null,
      "width": null
     }
    },
    "2ba7ebfcb13149d3a7e09f44554e8938": {
     "model_module": "@jupyter-widgets/controls",
     "model_module_version": "1.5.0",
     "model_name": "FloatProgressModel",
     "state": {
      "_dom_classes": [],
      "_model_module": "@jupyter-widgets/controls",
      "_model_module_version": "1.5.0",
      "_model_name": "FloatProgressModel",
      "_view_count": null,
      "_view_module": "@jupyter-widgets/controls",
      "_view_module_version": "1.5.0",
      "_view_name": "ProgressView",
      "bar_style": "success",
      "description": "",
      "description_tooltip": null,
      "layout": "IPY_MODEL_5d4600cfee9b4a1ab056b4c08f2dbe1d",
      "max": 343339,
      "min": 0,
      "orientation": "horizontal",
      "style": "IPY_MODEL_3a2260bc78434ba1996c434eb021c660",
      "value": 343339
     }
    },
    "2cd97ca4be4e4cb6bf8eedbe04e414a7": {
     "model_module": "@jupyter-widgets/controls",
     "model_module_version": "1.5.0",
     "model_name": "DescriptionStyleModel",
     "state": {
      "_model_module": "@jupyter-widgets/controls",
      "_model_module_version": "1.5.0",
      "_model_name": "DescriptionStyleModel",
      "_view_count": null,
      "_view_module": "@jupyter-widgets/base",
      "_view_module_version": "1.2.0",
      "_view_name": "StyleView",
      "description_width": ""
     }
    },
    "317ccb26b55f45148f63dae7a4374e00": {
     "model_module": "@jupyter-widgets/controls",
     "model_module_version": "1.5.0",
     "model_name": "HTMLModel",
     "state": {
      "_dom_classes": [],
      "_model_module": "@jupyter-widgets/controls",
      "_model_module_version": "1.5.0",
      "_model_name": "HTMLModel",
      "_view_count": null,
      "_view_module": "@jupyter-widgets/controls",
      "_view_module_version": "1.5.0",
      "_view_name": "HTMLView",
      "description": "",
      "description_tooltip": null,
      "layout": "IPY_MODEL_15fe494b4725464bab5da7edc6aff469",
      "placeholder": "​",
      "style": "IPY_MODEL_2cd97ca4be4e4cb6bf8eedbe04e414a7",
      "value": " 343k/343k [00:00&lt;00:00, 843kB/s]"
     }
    },
    "32be02674b0f42e8b8e324188ef9d597": {
     "model_module": "@jupyter-widgets/base",
     "model_module_version": "1.2.0",
     "model_name": "LayoutModel",
     "state": {
      "_model_module": "@jupyter-widgets/base",
      "_model_module_version": "1.2.0",
      "_model_name": "LayoutModel",
      "_view_count": null,
      "_view_module": "@jupyter-widgets/base",
      "_view_module_version": "1.2.0",
      "_view_name": "LayoutView",
      "align_content": null,
      "align_items": null,
      "align_self": null,
      "border": null,
      "bottom": null,
      "display": null,
      "flex": null,
      "flex_flow": null,
      "grid_area": null,
      "grid_auto_columns": null,
      "grid_auto_flow": null,
      "grid_auto_rows": null,
      "grid_column": null,
      "grid_gap": null,
      "grid_row": null,
      "grid_template_areas": null,
      "grid_template_columns": null,
      "grid_template_rows": null,
      "height": null,
      "justify_content": null,
      "justify_items": null,
      "left": null,
      "margin": null,
      "max_height": null,
      "max_width": null,
      "min_height": null,
      "min_width": null,
      "object_fit": null,
      "object_position": null,
      "order": null,
      "overflow": null,
      "overflow_x": null,
      "overflow_y": null,
      "padding": null,
      "right": null,
      "top": null,
      "visibility": null,
      "width": null
     }
    },
    "334900782e2e480ab10493cd6c0b8d8d": {
     "model_module": "@jupyter-widgets/base",
     "model_module_version": "1.2.0",
     "model_name": "LayoutModel",
     "state": {
      "_model_module": "@jupyter-widgets/base",
      "_model_module_version": "1.2.0",
      "_model_name": "LayoutModel",
      "_view_count": null,
      "_view_module": "@jupyter-widgets/base",
      "_view_module_version": "1.2.0",
      "_view_name": "LayoutView",
      "align_content": null,
      "align_items": null,
      "align_self": null,
      "border": null,
      "bottom": null,
      "display": null,
      "flex": null,
      "flex_flow": null,
      "grid_area": null,
      "grid_auto_columns": null,
      "grid_auto_flow": null,
      "grid_auto_rows": null,
      "grid_column": null,
      "grid_gap": null,
      "grid_row": null,
      "grid_template_areas": null,
      "grid_template_columns": null,
      "grid_template_rows": null,
      "height": null,
      "justify_content": null,
      "justify_items": null,
      "left": null,
      "margin": null,
      "max_height": null,
      "max_width": null,
      "min_height": null,
      "min_width": null,
      "object_fit": null,
      "object_position": null,
      "order": null,
      "overflow": null,
      "overflow_x": null,
      "overflow_y": null,
      "padding": null,
      "right": null,
      "top": null,
      "visibility": null,
      "width": null
     }
    },
    "3a2260bc78434ba1996c434eb021c660": {
     "model_module": "@jupyter-widgets/controls",
     "model_module_version": "1.5.0",
     "model_name": "ProgressStyleModel",
     "state": {
      "_model_module": "@jupyter-widgets/controls",
      "_model_module_version": "1.5.0",
      "_model_name": "ProgressStyleModel",
      "_view_count": null,
      "_view_module": "@jupyter-widgets/base",
      "_view_module_version": "1.2.0",
      "_view_name": "StyleView",
      "bar_color": null,
      "description_width": ""
     }
    },
    "3d2751a637c34ab28de8945e28def42a": {
     "model_module": "@jupyter-widgets/base",
     "model_module_version": "1.2.0",
     "model_name": "LayoutModel",
     "state": {
      "_model_module": "@jupyter-widgets/base",
      "_model_module_version": "1.2.0",
      "_model_name": "LayoutModel",
      "_view_count": null,
      "_view_module": "@jupyter-widgets/base",
      "_view_module_version": "1.2.0",
      "_view_name": "LayoutView",
      "align_content": null,
      "align_items": null,
      "align_self": null,
      "border": null,
      "bottom": null,
      "display": null,
      "flex": null,
      "flex_flow": null,
      "grid_area": null,
      "grid_auto_columns": null,
      "grid_auto_flow": null,
      "grid_auto_rows": null,
      "grid_column": null,
      "grid_gap": null,
      "grid_row": null,
      "grid_template_areas": null,
      "grid_template_columns": null,
      "grid_template_rows": null,
      "height": null,
      "justify_content": null,
      "justify_items": null,
      "left": null,
      "margin": null,
      "max_height": null,
      "max_width": null,
      "min_height": null,
      "min_width": null,
      "object_fit": null,
      "object_position": null,
      "order": null,
      "overflow": null,
      "overflow_x": null,
      "overflow_y": null,
      "padding": null,
      "right": null,
      "top": null,
      "visibility": null,
      "width": null
     }
    },
    "45050d82435943fd85fdf5991c060f1a": {
     "model_module": "@jupyter-widgets/controls",
     "model_module_version": "1.5.0",
     "model_name": "HTMLModel",
     "state": {
      "_dom_classes": [],
      "_model_module": "@jupyter-widgets/controls",
      "_model_module_version": "1.5.0",
      "_model_name": "HTMLModel",
      "_view_count": null,
      "_view_module": "@jupyter-widgets/controls",
      "_view_module_version": "1.5.0",
      "_view_name": "HTMLView",
      "description": "",
      "description_tooltip": null,
      "layout": "IPY_MODEL_249808ece0894aaaaf1350ffdb41fc8b",
      "placeholder": "​",
      "style": "IPY_MODEL_0a7ecba944724ab597f3fbfee5dadb44",
      "value": " 77/77 [00:00&lt;00:00, 2833.02 examples/s]"
     }
    },
    "45db6b98cfe2454eaf2a89fcaa77990b": {
     "model_module": "@jupyter-widgets/base",
     "model_module_version": "1.2.0",
     "model_name": "LayoutModel",
     "state": {
      "_model_module": "@jupyter-widgets/base",
      "_model_module_version": "1.2.0",
      "_model_name": "LayoutModel",
      "_view_count": null,
      "_view_module": "@jupyter-widgets/base",
      "_view_module_version": "1.2.0",
      "_view_name": "LayoutView",
      "align_content": null,
      "align_items": null,
      "align_self": null,
      "border": null,
      "bottom": null,
      "display": null,
      "flex": null,
      "flex_flow": null,
      "grid_area": null,
      "grid_auto_columns": null,
      "grid_auto_flow": null,
      "grid_auto_rows": null,
      "grid_column": null,
      "grid_gap": null,
      "grid_row": null,
      "grid_template_areas": null,
      "grid_template_columns": null,
      "grid_template_rows": null,
      "height": null,
      "justify_content": null,
      "justify_items": null,
      "left": null,
      "margin": null,
      "max_height": null,
      "max_width": null,
      "min_height": null,
      "min_width": null,
      "object_fit": null,
      "object_position": null,
      "order": null,
      "overflow": null,
      "overflow_x": null,
      "overflow_y": null,
      "padding": null,
      "right": null,
      "top": null,
      "visibility": null,
      "width": null
     }
    },
    "4a8ea3feb54e4403a860f51c40c60a65": {
     "model_module": "@jupyter-widgets/controls",
     "model_module_version": "1.5.0",
     "model_name": "HBoxModel",
     "state": {
      "_dom_classes": [],
      "_model_module": "@jupyter-widgets/controls",
      "_model_module_version": "1.5.0",
      "_model_name": "HBoxModel",
      "_view_count": null,
      "_view_module": "@jupyter-widgets/controls",
      "_view_module_version": "1.5.0",
      "_view_name": "HBoxView",
      "box_style": "",
      "children": [
       "IPY_MODEL_e5b529c0bda44d7fb498d12790d5fdb5",
       "IPY_MODEL_797dccf1637a4865922892338fa78f32",
       "IPY_MODEL_9482abdd534c4738bc8b0f24663091e7"
      ],
      "layout": "IPY_MODEL_32be02674b0f42e8b8e324188ef9d597"
     }
    },
    "4f581b1435214a30ab2eb51d454e7384": {
     "model_module": "@jupyter-widgets/controls",
     "model_module_version": "1.5.0",
     "model_name": "ProgressStyleModel",
     "state": {
      "_model_module": "@jupyter-widgets/controls",
      "_model_module_version": "1.5.0",
      "_model_name": "ProgressStyleModel",
      "_view_count": null,
      "_view_module": "@jupyter-widgets/base",
      "_view_module_version": "1.2.0",
      "_view_name": "StyleView",
      "bar_color": null,
      "description_width": ""
     }
    },
    "5226c9b3b2144ff6ac70240f7068ea7c": {
     "model_module": "@jupyter-widgets/controls",
     "model_module_version": "1.5.0",
     "model_name": "HTMLModel",
     "state": {
      "_dom_classes": [],
      "_model_module": "@jupyter-widgets/controls",
      "_model_module_version": "1.5.0",
      "_model_name": "HTMLModel",
      "_view_count": null,
      "_view_module": "@jupyter-widgets/controls",
      "_view_module_version": "1.5.0",
      "_view_name": "HTMLView",
      "description": "",
      "description_tooltip": null,
      "layout": "IPY_MODEL_8c4f46eb7d9f460b81a53e33e7ef1f4c",
      "placeholder": "​",
      "style": "IPY_MODEL_c42f5e73579843c9b3a7d4813a880988",
      "value": " 25.3k/25.3k [00:00&lt;00:00, 117kB/s]"
     }
    },
    "5d4600cfee9b4a1ab056b4c08f2dbe1d": {
     "model_module": "@jupyter-widgets/base",
     "model_module_version": "1.2.0",
     "model_name": "LayoutModel",
     "state": {
      "_model_module": "@jupyter-widgets/base",
      "_model_module_version": "1.2.0",
      "_model_name": "LayoutModel",
      "_view_count": null,
      "_view_module": "@jupyter-widgets/base",
      "_view_module_version": "1.2.0",
      "_view_name": "LayoutView",
      "align_content": null,
      "align_items": null,
      "align_self": null,
      "border": null,
      "bottom": null,
      "display": null,
      "flex": null,
      "flex_flow": null,
      "grid_area": null,
      "grid_auto_columns": null,
      "grid_auto_flow": null,
      "grid_auto_rows": null,
      "grid_column": null,
      "grid_gap": null,
      "grid_row": null,
      "grid_template_areas": null,
      "grid_template_columns": null,
      "grid_template_rows": null,
      "height": null,
      "justify_content": null,
      "justify_items": null,
      "left": null,
      "margin": null,
      "max_height": null,
      "max_width": null,
      "min_height": null,
      "min_width": null,
      "object_fit": null,
      "object_position": null,
      "order": null,
      "overflow": null,
      "overflow_x": null,
      "overflow_y": null,
      "padding": null,
      "right": null,
      "top": null,
      "visibility": null,
      "width": null
     }
    },
    "676a9315ef154923b7e5569b34df4e57": {
     "model_module": "@jupyter-widgets/controls",
     "model_module_version": "1.5.0",
     "model_name": "DescriptionStyleModel",
     "state": {
      "_model_module": "@jupyter-widgets/controls",
      "_model_module_version": "1.5.0",
      "_model_name": "DescriptionStyleModel",
      "_view_count": null,
      "_view_module": "@jupyter-widgets/base",
      "_view_module_version": "1.2.0",
      "_view_name": "StyleView",
      "description_width": ""
     }
    },
    "67cd19f6c6764c2db8780d02e05b114a": {
     "model_module": "@jupyter-widgets/base",
     "model_module_version": "1.2.0",
     "model_name": "LayoutModel",
     "state": {
      "_model_module": "@jupyter-widgets/base",
      "_model_module_version": "1.2.0",
      "_model_name": "LayoutModel",
      "_view_count": null,
      "_view_module": "@jupyter-widgets/base",
      "_view_module_version": "1.2.0",
      "_view_name": "LayoutView",
      "align_content": null,
      "align_items": null,
      "align_self": null,
      "border": null,
      "bottom": null,
      "display": null,
      "flex": null,
      "flex_flow": null,
      "grid_area": null,
      "grid_auto_columns": null,
      "grid_auto_flow": null,
      "grid_auto_rows": null,
      "grid_column": null,
      "grid_gap": null,
      "grid_row": null,
      "grid_template_areas": null,
      "grid_template_columns": null,
      "grid_template_rows": null,
      "height": null,
      "justify_content": null,
      "justify_items": null,
      "left": null,
      "margin": null,
      "max_height": null,
      "max_width": null,
      "min_height": null,
      "min_width": null,
      "object_fit": null,
      "object_position": null,
      "order": null,
      "overflow": null,
      "overflow_x": null,
      "overflow_y": null,
      "padding": null,
      "right": null,
      "top": null,
      "visibility": null,
      "width": null
     }
    },
    "69603de110cc4421823e7e333bd4e685": {
     "model_module": "@jupyter-widgets/controls",
     "model_module_version": "1.5.0",
     "model_name": "FloatProgressModel",
     "state": {
      "_dom_classes": [],
      "_model_module": "@jupyter-widgets/controls",
      "_model_module_version": "1.5.0",
      "_model_name": "FloatProgressModel",
      "_view_count": null,
      "_view_module": "@jupyter-widgets/controls",
      "_view_module_version": "1.5.0",
      "_view_name": "ProgressView",
      "bar_style": "success",
      "description": "",
      "description_tooltip": null,
      "layout": "IPY_MODEL_7422e6aca2a94701b1279f6eb9fcd2bb",
      "max": 25324,
      "min": 0,
      "orientation": "horizontal",
      "style": "IPY_MODEL_4f581b1435214a30ab2eb51d454e7384",
      "value": 25324
     }
    },
    "6f834e3e0ee248afaa2a7fa1364b2a04": {
     "model_module": "@jupyter-widgets/controls",
     "model_module_version": "1.5.0",
     "model_name": "DescriptionStyleModel",
     "state": {
      "_model_module": "@jupyter-widgets/controls",
      "_model_module_version": "1.5.0",
      "_model_name": "DescriptionStyleModel",
      "_view_count": null,
      "_view_module": "@jupyter-widgets/base",
      "_view_module_version": "1.2.0",
      "_view_name": "StyleView",
      "description_width": ""
     }
    },
    "7422e6aca2a94701b1279f6eb9fcd2bb": {
     "model_module": "@jupyter-widgets/base",
     "model_module_version": "1.2.0",
     "model_name": "LayoutModel",
     "state": {
      "_model_module": "@jupyter-widgets/base",
      "_model_module_version": "1.2.0",
      "_model_name": "LayoutModel",
      "_view_count": null,
      "_view_module": "@jupyter-widgets/base",
      "_view_module_version": "1.2.0",
      "_view_name": "LayoutView",
      "align_content": null,
      "align_items": null,
      "align_self": null,
      "border": null,
      "bottom": null,
      "display": null,
      "flex": null,
      "flex_flow": null,
      "grid_area": null,
      "grid_auto_columns": null,
      "grid_auto_flow": null,
      "grid_auto_rows": null,
      "grid_column": null,
      "grid_gap": null,
      "grid_row": null,
      "grid_template_areas": null,
      "grid_template_columns": null,
      "grid_template_rows": null,
      "height": null,
      "justify_content": null,
      "justify_items": null,
      "left": null,
      "margin": null,
      "max_height": null,
      "max_width": null,
      "min_height": null,
      "min_width": null,
      "object_fit": null,
      "object_position": null,
      "order": null,
      "overflow": null,
      "overflow_x": null,
      "overflow_y": null,
      "padding": null,
      "right": null,
      "top": null,
      "visibility": null,
      "width": null
     }
    },
    "7524b3f3a0da43088b780d68f10dd94c": {
     "model_module": "@jupyter-widgets/controls",
     "model_module_version": "1.5.0",
     "model_name": "ProgressStyleModel",
     "state": {
      "_model_module": "@jupyter-widgets/controls",
      "_model_module_version": "1.5.0",
      "_model_name": "ProgressStyleModel",
      "_view_count": null,
      "_view_module": "@jupyter-widgets/base",
      "_view_module_version": "1.2.0",
      "_view_name": "StyleView",
      "bar_color": null,
      "description_width": ""
     }
    },
    "756e1842cf684fea96b3ae0f1a82d279": {
     "model_module": "@jupyter-widgets/controls",
     "model_module_version": "1.5.0",
     "model_name": "DescriptionStyleModel",
     "state": {
      "_model_module": "@jupyter-widgets/controls",
      "_model_module_version": "1.5.0",
      "_model_name": "DescriptionStyleModel",
      "_view_count": null,
      "_view_module": "@jupyter-widgets/base",
      "_view_module_version": "1.2.0",
      "_view_name": "StyleView",
      "description_width": ""
     }
    },
    "781c601df8f5449ab56fdf104869373c": {
     "model_module": "@jupyter-widgets/controls",
     "model_module_version": "1.5.0",
     "model_name": "DescriptionStyleModel",
     "state": {
      "_model_module": "@jupyter-widgets/controls",
      "_model_module_version": "1.5.0",
      "_model_name": "DescriptionStyleModel",
      "_view_count": null,
      "_view_module": "@jupyter-widgets/base",
      "_view_module_version": "1.2.0",
      "_view_name": "StyleView",
      "description_width": ""
     }
    },
    "797dccf1637a4865922892338fa78f32": {
     "model_module": "@jupyter-widgets/controls",
     "model_module_version": "1.5.0",
     "model_name": "FloatProgressModel",
     "state": {
      "_dom_classes": [],
      "_model_module": "@jupyter-widgets/controls",
      "_model_module_version": "1.5.0",
      "_model_name": "FloatProgressModel",
      "_view_count": null,
      "_view_module": "@jupyter-widgets/controls",
      "_view_module_version": "1.5.0",
      "_view_name": "ProgressView",
      "bar_style": "success",
      "description": "",
      "description_tooltip": null,
      "layout": "IPY_MODEL_b0d7bbafb1a64bc49dd32b58a16d12d5",
      "max": 1320,
      "min": 0,
      "orientation": "horizontal",
      "style": "IPY_MODEL_acbfc2a44a2e43bf81ad705d73f520a3",
      "value": 1320
     }
    },
    "7e080c2cb4ce4108a5f7d1de618d9158": {
     "model_module": "@jupyter-widgets/base",
     "model_module_version": "1.2.0",
     "model_name": "LayoutModel",
     "state": {
      "_model_module": "@jupyter-widgets/base",
      "_model_module_version": "1.2.0",
      "_model_name": "LayoutModel",
      "_view_count": null,
      "_view_module": "@jupyter-widgets/base",
      "_view_module_version": "1.2.0",
      "_view_name": "LayoutView",
      "align_content": null,
      "align_items": null,
      "align_self": null,
      "border": null,
      "bottom": null,
      "display": null,
      "flex": null,
      "flex_flow": null,
      "grid_area": null,
      "grid_auto_columns": null,
      "grid_auto_flow": null,
      "grid_auto_rows": null,
      "grid_column": null,
      "grid_gap": null,
      "grid_row": null,
      "grid_template_areas": null,
      "grid_template_columns": null,
      "grid_template_rows": null,
      "height": null,
      "justify_content": null,
      "justify_items": null,
      "left": null,
      "margin": null,
      "max_height": null,
      "max_width": null,
      "min_height": null,
      "min_width": null,
      "object_fit": null,
      "object_position": null,
      "order": null,
      "overflow": null,
      "overflow_x": null,
      "overflow_y": null,
      "padding": null,
      "right": null,
      "top": null,
      "visibility": null,
      "width": null
     }
    },
    "7e31674eb8f148f5b2dc7eb359df4e82": {
     "model_module": "@jupyter-widgets/controls",
     "model_module_version": "1.5.0",
     "model_name": "HBoxModel",
     "state": {
      "_dom_classes": [],
      "_model_module": "@jupyter-widgets/controls",
      "_model_module_version": "1.5.0",
      "_model_name": "HBoxModel",
      "_view_count": null,
      "_view_module": "@jupyter-widgets/controls",
      "_view_module_version": "1.5.0",
      "_view_name": "HBoxView",
      "box_style": "",
      "children": [
       "IPY_MODEL_dcdcb4f9968242f99aa3a6d96eec1e2d",
       "IPY_MODEL_2ba7ebfcb13149d3a7e09f44554e8938",
       "IPY_MODEL_317ccb26b55f45148f63dae7a4374e00"
      ],
      "layout": "IPY_MODEL_0f14c341c2694a6ea6dfe6dfc4fa967a"
     }
    },
    "8373ee773feb41de804db1a71b11c391": {
     "model_module": "@jupyter-widgets/base",
     "model_module_version": "1.2.0",
     "model_name": "LayoutModel",
     "state": {
      "_model_module": "@jupyter-widgets/base",
      "_model_module_version": "1.2.0",
      "_model_name": "LayoutModel",
      "_view_count": null,
      "_view_module": "@jupyter-widgets/base",
      "_view_module_version": "1.2.0",
      "_view_name": "LayoutView",
      "align_content": null,
      "align_items": null,
      "align_self": null,
      "border": null,
      "bottom": null,
      "display": null,
      "flex": null,
      "flex_flow": null,
      "grid_area": null,
      "grid_auto_columns": null,
      "grid_auto_flow": null,
      "grid_auto_rows": null,
      "grid_column": null,
      "grid_gap": null,
      "grid_row": null,
      "grid_template_areas": null,
      "grid_template_columns": null,
      "grid_template_rows": null,
      "height": null,
      "justify_content": null,
      "justify_items": null,
      "left": null,
      "margin": null,
      "max_height": null,
      "max_width": null,
      "min_height": null,
      "min_width": null,
      "object_fit": null,
      "object_position": null,
      "order": null,
      "overflow": null,
      "overflow_x": null,
      "overflow_y": null,
      "padding": null,
      "right": null,
      "top": null,
      "visibility": null,
      "width": null
     }
    },
    "840d77a93521462f8db2a6a868666d75": {
     "model_module": "@jupyter-widgets/controls",
     "model_module_version": "1.5.0",
     "model_name": "FloatProgressModel",
     "state": {
      "_dom_classes": [],
      "_model_module": "@jupyter-widgets/controls",
      "_model_module_version": "1.5.0",
      "_model_name": "FloatProgressModel",
      "_view_count": null,
      "_view_module": "@jupyter-widgets/controls",
      "_view_module_version": "1.5.0",
      "_view_name": "ProgressView",
      "bar_style": "success",
      "description": "",
      "description_tooltip": null,
      "layout": "IPY_MODEL_9d0c9302da5641888451cf1d6606d13f",
      "max": 155,
      "min": 0,
      "orientation": "horizontal",
      "style": "IPY_MODEL_f2e3d9c72db64aca9610f5d5b6602733",
      "value": 155
     }
    },
    "8a5fd4af8da24c488809a8a0fd52e18d": {
     "model_module": "@jupyter-widgets/controls",
     "model_module_version": "1.5.0",
     "model_name": "DescriptionStyleModel",
     "state": {
      "_model_module": "@jupyter-widgets/controls",
      "_model_module_version": "1.5.0",
      "_model_name": "DescriptionStyleModel",
      "_view_count": null,
      "_view_module": "@jupyter-widgets/base",
      "_view_module_version": "1.2.0",
      "_view_name": "StyleView",
      "description_width": ""
     }
    },
    "8c4f46eb7d9f460b81a53e33e7ef1f4c": {
     "model_module": "@jupyter-widgets/base",
     "model_module_version": "1.2.0",
     "model_name": "LayoutModel",
     "state": {
      "_model_module": "@jupyter-widgets/base",
      "_model_module_version": "1.2.0",
      "_model_name": "LayoutModel",
      "_view_count": null,
      "_view_module": "@jupyter-widgets/base",
      "_view_module_version": "1.2.0",
      "_view_name": "LayoutView",
      "align_content": null,
      "align_items": null,
      "align_self": null,
      "border": null,
      "bottom": null,
      "display": null,
      "flex": null,
      "flex_flow": null,
      "grid_area": null,
      "grid_auto_columns": null,
      "grid_auto_flow": null,
      "grid_auto_rows": null,
      "grid_column": null,
      "grid_gap": null,
      "grid_row": null,
      "grid_template_areas": null,
      "grid_template_columns": null,
      "grid_template_rows": null,
      "height": null,
      "justify_content": null,
      "justify_items": null,
      "left": null,
      "margin": null,
      "max_height": null,
      "max_width": null,
      "min_height": null,
      "min_width": null,
      "object_fit": null,
      "object_position": null,
      "order": null,
      "overflow": null,
      "overflow_x": null,
      "overflow_y": null,
      "padding": null,
      "right": null,
      "top": null,
      "visibility": null,
      "width": null
     }
    },
    "9482abdd534c4738bc8b0f24663091e7": {
     "model_module": "@jupyter-widgets/controls",
     "model_module_version": "1.5.0",
     "model_name": "HTMLModel",
     "state": {
      "_dom_classes": [],
      "_model_module": "@jupyter-widgets/controls",
      "_model_module_version": "1.5.0",
      "_model_name": "HTMLModel",
      "_view_count": null,
      "_view_module": "@jupyter-widgets/controls",
      "_view_module_version": "1.5.0",
      "_view_name": "HTMLView",
      "description": "",
      "description_tooltip": null,
      "layout": "IPY_MODEL_c988a28d112a4546b5a7519e3624f256",
      "placeholder": "​",
      "style": "IPY_MODEL_c90b605d2ac149e0b4e27fcdd2a3b8b5",
      "value": " 1320/1320 [00:00&lt;00:00, 18244.52 examples/s]"
     }
    },
    "98dc658518d4417d9622dcd34036790c": {
     "model_module": "@jupyter-widgets/base",
     "model_module_version": "1.2.0",
     "model_name": "LayoutModel",
     "state": {
      "_model_module": "@jupyter-widgets/base",
      "_model_module_version": "1.2.0",
      "_model_name": "LayoutModel",
      "_view_count": null,
      "_view_module": "@jupyter-widgets/base",
      "_view_module_version": "1.2.0",
      "_view_name": "LayoutView",
      "align_content": null,
      "align_items": null,
      "align_self": null,
      "border": null,
      "bottom": null,
      "display": null,
      "flex": null,
      "flex_flow": null,
      "grid_area": null,
      "grid_auto_columns": null,
      "grid_auto_flow": null,
      "grid_auto_rows": null,
      "grid_column": null,
      "grid_gap": null,
      "grid_row": null,
      "grid_template_areas": null,
      "grid_template_columns": null,
      "grid_template_rows": null,
      "height": null,
      "justify_content": null,
      "justify_items": null,
      "left": null,
      "margin": null,
      "max_height": null,
      "max_width": null,
      "min_height": null,
      "min_width": null,
      "object_fit": null,
      "object_position": null,
      "order": null,
      "overflow": null,
      "overflow_x": null,
      "overflow_y": null,
      "padding": null,
      "right": null,
      "top": null,
      "visibility": null,
      "width": null
     }
    },
    "9d0c9302da5641888451cf1d6606d13f": {
     "model_module": "@jupyter-widgets/base",
     "model_module_version": "1.2.0",
     "model_name": "LayoutModel",
     "state": {
      "_model_module": "@jupyter-widgets/base",
      "_model_module_version": "1.2.0",
      "_model_name": "LayoutModel",
      "_view_count": null,
      "_view_module": "@jupyter-widgets/base",
      "_view_module_version": "1.2.0",
      "_view_name": "LayoutView",
      "align_content": null,
      "align_items": null,
      "align_self": null,
      "border": null,
      "bottom": null,
      "display": null,
      "flex": null,
      "flex_flow": null,
      "grid_area": null,
      "grid_auto_columns": null,
      "grid_auto_flow": null,
      "grid_auto_rows": null,
      "grid_column": null,
      "grid_gap": null,
      "grid_row": null,
      "grid_template_areas": null,
      "grid_template_columns": null,
      "grid_template_rows": null,
      "height": null,
      "justify_content": null,
      "justify_items": null,
      "left": null,
      "margin": null,
      "max_height": null,
      "max_width": null,
      "min_height": null,
      "min_width": null,
      "object_fit": null,
      "object_position": null,
      "order": null,
      "overflow": null,
      "overflow_x": null,
      "overflow_y": null,
      "padding": null,
      "right": null,
      "top": null,
      "visibility": null,
      "width": null
     }
    },
    "a66b1b58a7ed4cb681600e49378f42a3": {
     "model_module": "@jupyter-widgets/base",
     "model_module_version": "1.2.0",
     "model_name": "LayoutModel",
     "state": {
      "_model_module": "@jupyter-widgets/base",
      "_model_module_version": "1.2.0",
      "_model_name": "LayoutModel",
      "_view_count": null,
      "_view_module": "@jupyter-widgets/base",
      "_view_module_version": "1.2.0",
      "_view_name": "LayoutView",
      "align_content": null,
      "align_items": null,
      "align_self": null,
      "border": null,
      "bottom": null,
      "display": null,
      "flex": null,
      "flex_flow": null,
      "grid_area": null,
      "grid_auto_columns": null,
      "grid_auto_flow": null,
      "grid_auto_rows": null,
      "grid_column": null,
      "grid_gap": null,
      "grid_row": null,
      "grid_template_areas": null,
      "grid_template_columns": null,
      "grid_template_rows": null,
      "height": null,
      "justify_content": null,
      "justify_items": null,
      "left": null,
      "margin": null,
      "max_height": null,
      "max_width": null,
      "min_height": null,
      "min_width": null,
      "object_fit": null,
      "object_position": null,
      "order": null,
      "overflow": null,
      "overflow_x": null,
      "overflow_y": null,
      "padding": null,
      "right": null,
      "top": null,
      "visibility": null,
      "width": null
     }
    },
    "a81da08c8f514e5a89182a6aada68f55": {
     "model_module": "@jupyter-widgets/controls",
     "model_module_version": "1.5.0",
     "model_name": "HTMLModel",
     "state": {
      "_dom_classes": [],
      "_model_module": "@jupyter-widgets/controls",
      "_model_module_version": "1.5.0",
      "_model_name": "HTMLModel",
      "_view_count": null,
      "_view_module": "@jupyter-widgets/controls",
      "_view_module_version": "1.5.0",
      "_view_name": "HTMLView",
      "description": "",
      "description_tooltip": null,
      "layout": "IPY_MODEL_0df785030f164f39b7eb0fcbaf40cb10",
      "placeholder": "​",
      "style": "IPY_MODEL_676a9315ef154923b7e5569b34df4e57",
      "value": "Generating validation split: 100%"
     }
    },
    "acbfc2a44a2e43bf81ad705d73f520a3": {
     "model_module": "@jupyter-widgets/controls",
     "model_module_version": "1.5.0",
     "model_name": "ProgressStyleModel",
     "state": {
      "_model_module": "@jupyter-widgets/controls",
      "_model_module_version": "1.5.0",
      "_model_name": "ProgressStyleModel",
      "_view_count": null,
      "_view_module": "@jupyter-widgets/base",
      "_view_module_version": "1.2.0",
      "_view_name": "StyleView",
      "bar_color": null,
      "description_width": ""
     }
    },
    "af4a503eaf8848a88f362b3f0ec6f9c9": {
     "model_module": "@jupyter-widgets/controls",
     "model_module_version": "1.5.0",
     "model_name": "DescriptionStyleModel",
     "state": {
      "_model_module": "@jupyter-widgets/controls",
      "_model_module_version": "1.5.0",
      "_model_name": "DescriptionStyleModel",
      "_view_count": null,
      "_view_module": "@jupyter-widgets/base",
      "_view_module_version": "1.2.0",
      "_view_name": "StyleView",
      "description_width": ""
     }
    },
    "afe1d6c89f904810983b03f8846ee7ea": {
     "model_module": "@jupyter-widgets/controls",
     "model_module_version": "1.5.0",
     "model_name": "HTMLModel",
     "state": {
      "_dom_classes": [],
      "_model_module": "@jupyter-widgets/controls",
      "_model_module_version": "1.5.0",
      "_model_name": "HTMLModel",
      "_view_count": null,
      "_view_module": "@jupyter-widgets/controls",
      "_view_module_version": "1.5.0",
      "_view_name": "HTMLView",
      "description": "",
      "description_tooltip": null,
      "layout": "IPY_MODEL_67cd19f6c6764c2db8780d02e05b114a",
      "placeholder": "​",
      "style": "IPY_MODEL_af4a503eaf8848a88f362b3f0ec6f9c9",
      "value": " 46.8k/46.8k [00:00&lt;00:00, 233kB/s]"
     }
    },
    "b0d7bbafb1a64bc49dd32b58a16d12d5": {
     "model_module": "@jupyter-widgets/base",
     "model_module_version": "1.2.0",
     "model_name": "LayoutModel",
     "state": {
      "_model_module": "@jupyter-widgets/base",
      "_model_module_version": "1.2.0",
      "_model_name": "LayoutModel",
      "_view_count": null,
      "_view_module": "@jupyter-widgets/base",
      "_view_module_version": "1.2.0",
      "_view_name": "LayoutView",
      "align_content": null,
      "align_items": null,
      "align_self": null,
      "border": null,
      "bottom": null,
      "display": null,
      "flex": null,
      "flex_flow": null,
      "grid_area": null,
      "grid_auto_columns": null,
      "grid_auto_flow": null,
      "grid_auto_rows": null,
      "grid_column": null,
      "grid_gap": null,
      "grid_row": null,
      "grid_template_areas": null,
      "grid_template_columns": null,
      "grid_template_rows": null,
      "height": null,
      "justify_content": null,
      "justify_items": null,
      "left": null,
      "margin": null,
      "max_height": null,
      "max_width": null,
      "min_height": null,
      "min_width": null,
      "object_fit": null,
      "object_position": null,
      "order": null,
      "overflow": null,
      "overflow_x": null,
      "overflow_y": null,
      "padding": null,
      "right": null,
      "top": null,
      "visibility": null,
      "width": null
     }
    },
    "b222837b3c554ddebef43f6758119b7a": {
     "model_module": "@jupyter-widgets/controls",
     "model_module_version": "1.5.0",
     "model_name": "HTMLModel",
     "state": {
      "_dom_classes": [],
      "_model_module": "@jupyter-widgets/controls",
      "_model_module_version": "1.5.0",
      "_model_name": "HTMLModel",
      "_view_count": null,
      "_view_module": "@jupyter-widgets/controls",
      "_view_module_version": "1.5.0",
      "_view_name": "HTMLView",
      "description": "",
      "description_tooltip": null,
      "layout": "IPY_MODEL_45db6b98cfe2454eaf2a89fcaa77990b",
      "placeholder": "​",
      "style": "IPY_MODEL_0619db8c587e407bbb71f4266ba59c9d",
      "value": "Downloading data: 100%"
     }
    },
    "c3094699e4144d4484cdbc4a2c1c6f8c": {
     "model_module": "@jupyter-widgets/base",
     "model_module_version": "1.2.0",
     "model_name": "LayoutModel",
     "state": {
      "_model_module": "@jupyter-widgets/base",
      "_model_module_version": "1.2.0",
      "_model_name": "LayoutModel",
      "_view_count": null,
      "_view_module": "@jupyter-widgets/base",
      "_view_module_version": "1.2.0",
      "_view_name": "LayoutView",
      "align_content": null,
      "align_items": null,
      "align_self": null,
      "border": null,
      "bottom": null,
      "display": null,
      "flex": null,
      "flex_flow": null,
      "grid_area": null,
      "grid_auto_columns": null,
      "grid_auto_flow": null,
      "grid_auto_rows": null,
      "grid_column": null,
      "grid_gap": null,
      "grid_row": null,
      "grid_template_areas": null,
      "grid_template_columns": null,
      "grid_template_rows": null,
      "height": null,
      "justify_content": null,
      "justify_items": null,
      "left": null,
      "margin": null,
      "max_height": null,
      "max_width": null,
      "min_height": null,
      "min_width": null,
      "object_fit": null,
      "object_position": null,
      "order": null,
      "overflow": null,
      "overflow_x": null,
      "overflow_y": null,
      "padding": null,
      "right": null,
      "top": null,
      "visibility": null,
      "width": null
     }
    },
    "c42f5e73579843c9b3a7d4813a880988": {
     "model_module": "@jupyter-widgets/controls",
     "model_module_version": "1.5.0",
     "model_name": "DescriptionStyleModel",
     "state": {
      "_model_module": "@jupyter-widgets/controls",
      "_model_module_version": "1.5.0",
      "_model_name": "DescriptionStyleModel",
      "_view_count": null,
      "_view_module": "@jupyter-widgets/base",
      "_view_module_version": "1.2.0",
      "_view_name": "StyleView",
      "description_width": ""
     }
    },
    "c90b605d2ac149e0b4e27fcdd2a3b8b5": {
     "model_module": "@jupyter-widgets/controls",
     "model_module_version": "1.5.0",
     "model_name": "DescriptionStyleModel",
     "state": {
      "_model_module": "@jupyter-widgets/controls",
      "_model_module_version": "1.5.0",
      "_model_name": "DescriptionStyleModel",
      "_view_count": null,
      "_view_module": "@jupyter-widgets/base",
      "_view_module_version": "1.2.0",
      "_view_name": "StyleView",
      "description_width": ""
     }
    },
    "c988a28d112a4546b5a7519e3624f256": {
     "model_module": "@jupyter-widgets/base",
     "model_module_version": "1.2.0",
     "model_name": "LayoutModel",
     "state": {
      "_model_module": "@jupyter-widgets/base",
      "_model_module_version": "1.2.0",
      "_model_name": "LayoutModel",
      "_view_count": null,
      "_view_module": "@jupyter-widgets/base",
      "_view_module_version": "1.2.0",
      "_view_name": "LayoutView",
      "align_content": null,
      "align_items": null,
      "align_self": null,
      "border": null,
      "bottom": null,
      "display": null,
      "flex": null,
      "flex_flow": null,
      "grid_area": null,
      "grid_auto_columns": null,
      "grid_auto_flow": null,
      "grid_auto_rows": null,
      "grid_column": null,
      "grid_gap": null,
      "grid_row": null,
      "grid_template_areas": null,
      "grid_template_columns": null,
      "grid_template_rows": null,
      "height": null,
      "justify_content": null,
      "justify_items": null,
      "left": null,
      "margin": null,
      "max_height": null,
      "max_width": null,
      "min_height": null,
      "min_width": null,
      "object_fit": null,
      "object_position": null,
      "order": null,
      "overflow": null,
      "overflow_x": null,
      "overflow_y": null,
      "padding": null,
      "right": null,
      "top": null,
      "visibility": null,
      "width": null
     }
    },
    "cecae7e33f444016a8ab7f3f8e22ec38": {
     "model_module": "@jupyter-widgets/controls",
     "model_module_version": "1.5.0",
     "model_name": "HBoxModel",
     "state": {
      "_dom_classes": [],
      "_model_module": "@jupyter-widgets/controls",
      "_model_module_version": "1.5.0",
      "_model_name": "HBoxModel",
      "_view_count": null,
      "_view_module": "@jupyter-widgets/controls",
      "_view_module_version": "1.5.0",
      "_view_name": "HBoxView",
      "box_style": "",
      "children": [
       "IPY_MODEL_a81da08c8f514e5a89182a6aada68f55",
       "IPY_MODEL_22ea76e1f2e3414cb55d079b234ecc38",
       "IPY_MODEL_45050d82435943fd85fdf5991c060f1a"
      ],
      "layout": "IPY_MODEL_3d2751a637c34ab28de8945e28def42a"
     }
    },
    "d02e35436b094095abdaea0e655e045f": {
     "model_module": "@jupyter-widgets/controls",
     "model_module_version": "1.5.0",
     "model_name": "HBoxModel",
     "state": {
      "_dom_classes": [],
      "_model_module": "@jupyter-widgets/controls",
      "_model_module_version": "1.5.0",
      "_model_name": "HBoxModel",
      "_view_count": null,
      "_view_module": "@jupyter-widgets/controls",
      "_view_module_version": "1.5.0",
      "_view_name": "HBoxView",
      "box_style": "",
      "children": [
       "IPY_MODEL_b222837b3c554ddebef43f6758119b7a",
       "IPY_MODEL_e5136be72af745dcb43bb085a81f9594",
       "IPY_MODEL_afe1d6c89f904810983b03f8846ee7ea"
      ],
      "layout": "IPY_MODEL_98dc658518d4417d9622dcd34036790c"
     }
    },
    "d492906490fe4ace9c313a718f4abba8": {
     "model_module": "@jupyter-widgets/controls",
     "model_module_version": "1.5.0",
     "model_name": "HTMLModel",
     "state": {
      "_dom_classes": [],
      "_model_module": "@jupyter-widgets/controls",
      "_model_module_version": "1.5.0",
      "_model_name": "HTMLModel",
      "_view_count": null,
      "_view_module": "@jupyter-widgets/controls",
      "_view_module_version": "1.5.0",
      "_view_name": "HTMLView",
      "description": "",
      "description_tooltip": null,
      "layout": "IPY_MODEL_c3094699e4144d4484cdbc4a2c1c6f8c",
      "placeholder": "​",
      "style": "IPY_MODEL_8a5fd4af8da24c488809a8a0fd52e18d",
      "value": "Downloading data: 100%"
     }
    },
    "dcdcb4f9968242f99aa3a6d96eec1e2d": {
     "model_module": "@jupyter-widgets/controls",
     "model_module_version": "1.5.0",
     "model_name": "HTMLModel",
     "state": {
      "_dom_classes": [],
      "_model_module": "@jupyter-widgets/controls",
      "_model_module_version": "1.5.0",
      "_model_name": "HTMLModel",
      "_view_count": null,
      "_view_module": "@jupyter-widgets/controls",
      "_view_module_version": "1.5.0",
      "_view_name": "HTMLView",
      "description": "",
      "description_tooltip": null,
      "layout": "IPY_MODEL_fa71dff1570049b6b80da30a6cdb928c",
      "placeholder": "​",
      "style": "IPY_MODEL_6f834e3e0ee248afaa2a7fa1364b2a04",
      "value": "Downloading data: 100%"
     }
    },
    "e02a69378cf0482b947fd30da495244e": {
     "model_module": "@jupyter-widgets/controls",
     "model_module_version": "1.5.0",
     "model_name": "HBoxModel",
     "state": {
      "_dom_classes": [],
      "_model_module": "@jupyter-widgets/controls",
      "_model_module_version": "1.5.0",
      "_model_name": "HBoxModel",
      "_view_count": null,
      "_view_module": "@jupyter-widgets/controls",
      "_view_module_version": "1.5.0",
      "_view_name": "HBoxView",
      "box_style": "",
      "children": [
       "IPY_MODEL_0b8c1047b47d4f39b5f8bde6a348704b",
       "IPY_MODEL_840d77a93521462f8db2a6a868666d75",
       "IPY_MODEL_e9e7c3248f32459296b5a4ee15cd999e"
      ],
      "layout": "IPY_MODEL_144a8dcc90804accb8b5c96cf241f934"
     }
    },
    "e5136be72af745dcb43bb085a81f9594": {
     "model_module": "@jupyter-widgets/controls",
     "model_module_version": "1.5.0",
     "model_name": "FloatProgressModel",
     "state": {
      "_dom_classes": [],
      "_model_module": "@jupyter-widgets/controls",
      "_model_module_version": "1.5.0",
      "_model_name": "FloatProgressModel",
      "_view_count": null,
      "_view_module": "@jupyter-widgets/controls",
      "_view_module_version": "1.5.0",
      "_view_name": "ProgressView",
      "bar_style": "success",
      "description": "",
      "description_tooltip": null,
      "layout": "IPY_MODEL_7e080c2cb4ce4108a5f7d1de618d9158",
      "max": 46775,
      "min": 0,
      "orientation": "horizontal",
      "style": "IPY_MODEL_f7fa156e9e584c2696d5b6a3a06fe0e1",
      "value": 46775
     }
    },
    "e5b529c0bda44d7fb498d12790d5fdb5": {
     "model_module": "@jupyter-widgets/controls",
     "model_module_version": "1.5.0",
     "model_name": "HTMLModel",
     "state": {
      "_dom_classes": [],
      "_model_module": "@jupyter-widgets/controls",
      "_model_module_version": "1.5.0",
      "_model_name": "HTMLModel",
      "_view_count": null,
      "_view_module": "@jupyter-widgets/controls",
      "_view_module_version": "1.5.0",
      "_view_name": "HTMLView",
      "description": "",
      "description_tooltip": null,
      "layout": "IPY_MODEL_334900782e2e480ab10493cd6c0b8d8d",
      "placeholder": "​",
      "style": "IPY_MODEL_756e1842cf684fea96b3ae0f1a82d279",
      "value": "Generating train split: 100%"
     }
    },
    "e9e7c3248f32459296b5a4ee15cd999e": {
     "model_module": "@jupyter-widgets/controls",
     "model_module_version": "1.5.0",
     "model_name": "HTMLModel",
     "state": {
      "_dom_classes": [],
      "_model_module": "@jupyter-widgets/controls",
      "_model_module_version": "1.5.0",
      "_model_name": "HTMLModel",
      "_view_count": null,
      "_view_module": "@jupyter-widgets/controls",
      "_view_module_version": "1.5.0",
      "_view_name": "HTMLView",
      "description": "",
      "description_tooltip": null,
      "layout": "IPY_MODEL_8373ee773feb41de804db1a71b11c391",
      "placeholder": "​",
      "style": "IPY_MODEL_781c601df8f5449ab56fdf104869373c",
      "value": " 155/155 [00:00&lt;00:00, 5621.66 examples/s]"
     }
    },
    "eca42b2a5a6d4cd1aeadccf98788d437": {
     "model_module": "@jupyter-widgets/base",
     "model_module_version": "1.2.0",
     "model_name": "LayoutModel",
     "state": {
      "_model_module": "@jupyter-widgets/base",
      "_model_module_version": "1.2.0",
      "_model_name": "LayoutModel",
      "_view_count": null,
      "_view_module": "@jupyter-widgets/base",
      "_view_module_version": "1.2.0",
      "_view_name": "LayoutView",
      "align_content": null,
      "align_items": null,
      "align_self": null,
      "border": null,
      "bottom": null,
      "display": null,
      "flex": null,
      "flex_flow": null,
      "grid_area": null,
      "grid_auto_columns": null,
      "grid_auto_flow": null,
      "grid_auto_rows": null,
      "grid_column": null,
      "grid_gap": null,
      "grid_row": null,
      "grid_template_areas": null,
      "grid_template_columns": null,
      "grid_template_rows": null,
      "height": null,
      "justify_content": null,
      "justify_items": null,
      "left": null,
      "margin": null,
      "max_height": null,
      "max_width": null,
      "min_height": null,
      "min_width": null,
      "object_fit": null,
      "object_position": null,
      "order": null,
      "overflow": null,
      "overflow_x": null,
      "overflow_y": null,
      "padding": null,
      "right": null,
      "top": null,
      "visibility": null,
      "width": null
     }
    },
    "ee135d6e1a8c4042b2d155609fcce7bb": {
     "model_module": "@jupyter-widgets/base",
     "model_module_version": "1.2.0",
     "model_name": "LayoutModel",
     "state": {
      "_model_module": "@jupyter-widgets/base",
      "_model_module_version": "1.2.0",
      "_model_name": "LayoutModel",
      "_view_count": null,
      "_view_module": "@jupyter-widgets/base",
      "_view_module_version": "1.2.0",
      "_view_name": "LayoutView",
      "align_content": null,
      "align_items": null,
      "align_self": null,
      "border": null,
      "bottom": null,
      "display": null,
      "flex": null,
      "flex_flow": null,
      "grid_area": null,
      "grid_auto_columns": null,
      "grid_auto_flow": null,
      "grid_auto_rows": null,
      "grid_column": null,
      "grid_gap": null,
      "grid_row": null,
      "grid_template_areas": null,
      "grid_template_columns": null,
      "grid_template_rows": null,
      "height": null,
      "justify_content": null,
      "justify_items": null,
      "left": null,
      "margin": null,
      "max_height": null,
      "max_width": null,
      "min_height": null,
      "min_width": null,
      "object_fit": null,
      "object_position": null,
      "order": null,
      "overflow": null,
      "overflow_x": null,
      "overflow_y": null,
      "padding": null,
      "right": null,
      "top": null,
      "visibility": null,
      "width": null
     }
    },
    "ef08bea292924aefbce06188388be7b0": {
     "model_module": "@jupyter-widgets/controls",
     "model_module_version": "1.5.0",
     "model_name": "DescriptionStyleModel",
     "state": {
      "_model_module": "@jupyter-widgets/controls",
      "_model_module_version": "1.5.0",
      "_model_name": "DescriptionStyleModel",
      "_view_count": null,
      "_view_module": "@jupyter-widgets/base",
      "_view_module_version": "1.2.0",
      "_view_name": "StyleView",
      "description_width": ""
     }
    },
    "f2e3d9c72db64aca9610f5d5b6602733": {
     "model_module": "@jupyter-widgets/controls",
     "model_module_version": "1.5.0",
     "model_name": "ProgressStyleModel",
     "state": {
      "_model_module": "@jupyter-widgets/controls",
      "_model_module_version": "1.5.0",
      "_model_name": "ProgressStyleModel",
      "_view_count": null,
      "_view_module": "@jupyter-widgets/base",
      "_view_module_version": "1.2.0",
      "_view_name": "StyleView",
      "bar_color": null,
      "description_width": ""
     }
    },
    "f7fa156e9e584c2696d5b6a3a06fe0e1": {
     "model_module": "@jupyter-widgets/controls",
     "model_module_version": "1.5.0",
     "model_name": "ProgressStyleModel",
     "state": {
      "_model_module": "@jupyter-widgets/controls",
      "_model_module_version": "1.5.0",
      "_model_name": "ProgressStyleModel",
      "_view_count": null,
      "_view_module": "@jupyter-widgets/base",
      "_view_module_version": "1.2.0",
      "_view_name": "StyleView",
      "bar_color": null,
      "description_width": ""
     }
    },
    "fa71dff1570049b6b80da30a6cdb928c": {
     "model_module": "@jupyter-widgets/base",
     "model_module_version": "1.2.0",
     "model_name": "LayoutModel",
     "state": {
      "_model_module": "@jupyter-widgets/base",
      "_model_module_version": "1.2.0",
      "_model_name": "LayoutModel",
      "_view_count": null,
      "_view_module": "@jupyter-widgets/base",
      "_view_module_version": "1.2.0",
      "_view_name": "LayoutView",
      "align_content": null,
      "align_items": null,
      "align_self": null,
      "border": null,
      "bottom": null,
      "display": null,
      "flex": null,
      "flex_flow": null,
      "grid_area": null,
      "grid_auto_columns": null,
      "grid_auto_flow": null,
      "grid_auto_rows": null,
      "grid_column": null,
      "grid_gap": null,
      "grid_row": null,
      "grid_template_areas": null,
      "grid_template_columns": null,
      "grid_template_rows": null,
      "height": null,
      "justify_content": null,
      "justify_items": null,
      "left": null,
      "margin": null,
      "max_height": null,
      "max_width": null,
      "min_height": null,
      "min_width": null,
      "object_fit": null,
      "object_position": null,
      "order": null,
      "overflow": null,
      "overflow_x": null,
      "overflow_y": null,
      "padding": null,
      "right": null,
      "top": null,
      "visibility": null,
      "width": null
     }
    }
   }
  }
 },
 "nbformat": 4,
 "nbformat_minor": 0
}
